{
 "cells": [
  {
   "cell_type": "markdown",
   "metadata": {},
   "source": [
    "# Assingment no :- 4"
   ]
  },
  {
   "cell_type": "code",
   "execution_count": null,
   "metadata": {},
   "outputs": [],
   "source": [
    "#  1. What exactly is []?\n",
    "Ans:-\n",
    "    In Python, [] is an empty list, which is a type of data structure that \n",
    "    can hold an ordered collection of items. It is used to represent a list \n",
    "    that contains no items."
   ]
  },
  {
   "cell_type": "code",
   "execution_count": null,
   "metadata": {},
   "outputs": [],
   "source": [
    "#2. In a list of values stored in a variable called spam, how would you assign the value &#39;hello&#39; as the\n",
    "third value? (Assume [2, 4, 6, 8, 10] are in spam.)\n",
    "Let&#39;s pretend the spam includes the list [&#39;a&#39;, &#39;b&#39;, &#39;c&#39;, &#39;d&#39;] for the next three queries.\n",
    "Ans=\n",
    "\n",
    "To assign the value 'hello' as the third value in the list, you would use the following code:\n",
    "\n",
    "\n",
    "spam = [2, 4, 6, 8, 10]\n",
    "spam[2] = 'hello'\n",
    "print(spam)  # Output: [2, 4, 'hello', 8, 10]\n",
    "\n"
   ]
  },
  {
   "cell_type": "code",
   "execution_count": null,
   "metadata": {},
   "outputs": [],
   "source": [
    "# 3. What is the value of spam[int(int(&#39;3&#39; * 2) / 11)]?\n",
    "Ans=\n",
    " The expression int('3' * 2) / 11 evaluates to 6 / 11 which in turn evaluates to 0.5454545454545454.\n",
    "Since spam is not defined, we cannot determine the value of spam[int(int('3' * 2) / 11)]."
   ]
  },
  {
   "cell_type": "code",
   "execution_count": null,
   "metadata": {},
   "outputs": [],
   "source": [
    "# 4. What is the value of spam[-1]?\n",
    "Ans=\n",
    "As a reminder, the variable spam has not been defined yet in this context. \n",
    "In Python, spam[-1] would return the last element of the list spam. If spam is [2, 4, 6, 8, 10], \n",
    "then spam[-1] would return 10. If spam is ['a', 'b', 'c', 'd'], \n",
    "then spam[-1] would return 'd'."
   ]
  },
  {
   "cell_type": "code",
   "execution_count": null,
   "metadata": {},
   "outputs": [],
   "source": [
    "#5. What is the value of spam[:2]?\n",
    "Let&#39;s pretend bacon has the list [3.14, &#39;cat,&#39; 11, &#39;cat,&#39; True] for the next three questions.\n",
    "\n",
    "Ans=\n",
    "There is no variable named spam in the current context, so it's not possible to determine the value of spam[:2]. However, \n",
    "assuming you meant bacon instead of spam, the value of bacon[:2] would be [3.14, 'cat']."
   ]
  },
  {
   "cell_type": "code",
   "execution_count": null,
   "metadata": {},
   "outputs": [],
   "source": [
    "##6. What is the value of bacon.index('cat')?\n",
    "Ans=\n",
    "bacon=[3.14, 'cat', 11, 'cat', True]\n",
    "bacon.index('cat')\n",
    "# output 1\n"
   ]
  },
  {
   "cell_type": "code",
   "execution_count": null,
   "metadata": {},
   "outputs": [],
   "source": [
    "#7. How doesbacon=[3.14, 'cat', 11, 'cat', True] bacon.append(99) change the look of the list value in bacon?\n",
    "Ans=\n",
    "bacon=[3.14, 'cat', 11, 'cat', True]\n",
    "bacon.append(99)\n",
    "print(bacon)\n",
    "\n",
    "# output\n",
    "[3.14, 'cat', 11, 'cat', True, 99]"
   ]
  },
  {
   "cell_type": "code",
   "execution_count": null,
   "metadata": {},
   "outputs": [],
   "source": [
    "#8. How does bacon.remove('cat') change the look of the list in bacon?\n",
    "Ans=\n",
    "bacon=[3.14, 'cat', 11, 'cat', True]\n",
    "bacon[0:5:2]\n",
    "\n",
    "# output\n",
    "[3.14, 11, True]\n"
   ]
  },
  {
   "cell_type": "code",
   "execution_count": 20,
   "metadata": {},
   "outputs": [],
   "source": [
    "#9. What are the list concatenation and list replication operators?\n",
    "Ans=\n",
    "The list concatenation operator is +, which combines two or more lists into a single list.\n",
    "\n",
    "For example:\n",
    "\n",
    "list1 = [1, 2, 3]\n",
    "list2 = [4, 5, 6]\n",
    "concatenated_list = list1 + list2\n",
    "print(concatenated_list)  # Output: [1, 2, 3, 4, 5, 6]\n",
    "The list replication operator is *, which creates a new list by repeating an existing list a specified number of times.\n",
    "\n",
    "For example:\n",
    "\n",
    "list1 = [1, 2, 3]\n",
    "replicated_list = list1 * 3\n",
    "print(replicated_list)  # Output: [1, 2, 3, 1, 2, 3, 1, 2, 3]"
   ]
  },
  {
   "cell_type": "code",
   "execution_count": null,
   "metadata": {},
   "outputs": [],
   "source": [
    "# 10. What is difference between the list methods append() and insert()?\n",
    "Ans=\n",
    "The append() and insert() methods are used to add new elements to a list in Python.\n",
    "However, they differ in how the elements are added:\n",
    "\n",
    "append(): adds an element to the end of the list.\n",
    "insert(): adds an element at a specified index position in the list.\n",
    "Here is an example to illustrate the difference:\n",
    "\n",
    "\n",
    "my_list = [1, 2, 3, 4, 5]\n",
    "\n",
    "# Using append() to add 6 to the end of the list\n",
    "my_list.append(6)\n",
    "print(my_list)  # Output: [1, 2, 3, 4, 5, 6]\n",
    "\n",
    "# Using insert() to add 0 at the beginning of the list\n",
    "my_list.insert(0, 0)\n",
    "print(my_list)  # Output: [0, 1, 2, 3, 4, 5, 6]\n",
    "As you can see, append() adds the element to the end of the list, while insert() \n",
    "allows you to specify the index position where the element should be added.\n",
    "\n",
    "\n"
   ]
  },
  {
   "cell_type": "code",
   "execution_count": null,
   "metadata": {},
   "outputs": [],
   "source": [
    "# 11. What are the two methods for removing items from a list?\n",
    "Ans=\n",
    "The two methods for removing items from a list in Python are:\n",
    "\n",
    "remove() method: This method is used to remove the first occurrence of a particular value from the list. \n",
    "    It takes the value to be removed as an argument.\n",
    "pop() method: This method is used to remove an item from the list at a specified index. \n",
    "    If no index is provided, it removes and returns the last item from the list."
   ]
  },
  {
   "cell_type": "code",
   "execution_count": null,
   "metadata": {},
   "outputs": [],
   "source": [
    "#12. Describe how list values and string values are identical.\n",
    "Ans=\n",
    "List values and string values are similar in the sense that they are both sequences of values. \n",
    "In a string, the values are characters, whereas in a list, the values can be of any data type. \n",
    "Both strings and lists can be sliced, concatenated, and iterated over. They can also both be \n",
    "used with the len() function to determine their length. However, there are also significant\n",
    "differences between them, such as how they are defined and manipulated, and how they are used \n",
    "in various contexts."
   ]
  },
  {
   "cell_type": "code",
   "execution_count": null,
   "metadata": {},
   "outputs": [],
   "source": [
    "# 13. Whats the difference between tuples and lists?\n",
    "Ans=\n",
    "In Python, tuples and lists are both used to store a collection of items. However, there are some differences between them:\n",
    "\n",
    "Mutability: Lists are mutable, which means that their elements can be changed after they are created. Tuples, on the other hand, are immutable, which means that once they are created, their elements cannot be changed.\n",
    "\n",
    "Syntax: Lists are created using square brackets [] while tuples are created using parentheses ().\n",
    "\n",
    "Performance: Tuples are generally faster and more memory efficient than lists, especially for large collections of data.\n",
    "\n",
    "Usage: Tuples are typically used to represent a collection of related items that should not be changed, such as a point in 2D or 3D space, while lists are used for collections that need to be modified, sorted, or filtered.\n",
    "\n",
    "In summary, the main differences between tuples and lists are mutability, syntax, performance, and usage.\n"
   ]
  },
  {
   "cell_type": "code",
   "execution_count": null,
   "metadata": {},
   "outputs": [],
   "source": [
    "#14. How do you type a tuple value that only contains the integer 42?\n",
    "Ans=\n",
    "\n",
    "To create a tuple with only the integer 42, you would write:\n",
    "    \n",
    "my_tuple = (42,)\n",
    "\n",
    "Note the comma after the 42. This is necessary to differentiate it from the integer 42\n",
    "in parentheses, which would be interpreted as an expression instead of a tuple."
   ]
  },
  {
   "cell_type": "code",
   "execution_count": null,
   "metadata": {},
   "outputs": [],
   "source": [
    "#15. How do you get a list value&#39;s tuple form? How do you get a tuple value&#39;s list form?\n",
    "Ans=\n",
    "To get a list value's tuple form, you can use the tuple() function and pass the list as an argument. For example:\n",
    "\n",
    "\n",
    "my_list = [1, 2, 3]\n",
    "my_tuple = tuple(my_list)\n",
    "print(my_tuple)  # Output: (1, 2, 3)\n",
    "To get a tuple value's list form, you can use the list() function and pass the tuple as an argument. For example:\n",
    "\n",
    "\n",
    "my_tuple = (1, 2, 3)\n",
    "my_list = list(my_tuple)\n",
    "print(my_list)  # Output: [1, 2, 3]"
   ]
  },
  {
   "cell_type": "code",
   "execution_count": null,
   "metadata": {},
   "outputs": [],
   "source": [
    "#16. Variables that &quot;contain&quot; list values are not necessarily lists themselves. Instead, what do they\n",
    "# contain?\n",
    "\n",
    "Ans=\n",
    "Variables that \"contain\" list values in Python are actually references to the memory\n",
    "location where the list is stored. When a variable is assigned a list value, it doesn't\n",
    "actually store the list itself, but rather a reference to the list in memory. \n",
    "This means that multiple variables can refer to the same list object, and changes made\n",
    "to the list through one variable will be reflected in all variables that refer to the same list object."
   ]
  },
  {
   "cell_type": "code",
   "execution_count": null,
   "metadata": {},
   "outputs": [],
   "source": [
    "#17. How do you distinguish between copy.copy() and copy.deepcopy()?\n",
    "\n",
    "Ans=\n",
    "\n",
    "In Python, copy.copy() and copy.deepcopy() are used to create a copy of an object.\n",
    "The difference between them is that copy.copy() creates a shallow copy of the object, while copy.deepcopy()\n",
    "creates a deep copy of the object."
   ]
  }
 ],
 "metadata": {
  "kernelspec": {
   "display_name": "Python 3",
   "language": "python",
   "name": "python3"
  },
  "language_info": {
   "codemirror_mode": {
    "name": "ipython",
    "version": 3
   },
   "file_extension": ".py",
   "mimetype": "text/x-python",
   "name": "python",
   "nbconvert_exporter": "python",
   "pygments_lexer": "ipython3",
   "version": "3.7.6"
  }
 },
 "nbformat": 4,
 "nbformat_minor": 4
}
