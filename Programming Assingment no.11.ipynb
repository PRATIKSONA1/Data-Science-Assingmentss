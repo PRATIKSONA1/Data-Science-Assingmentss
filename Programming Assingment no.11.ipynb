{
 "cells": [
  {
   "cell_type": "markdown",
   "metadata": {},
   "source": [
    "# Programming Assingment no.11"
   ]
  },
  {
   "cell_type": "code",
   "execution_count": 1,
   "metadata": {},
   "outputs": [
    {
     "name": "stdout",
     "output_type": "stream",
     "text": [
      "Words greater than length 4: ['sample', 'string', 'demonstrate', 'program']\n"
     ]
    }
   ],
   "source": [
    "# 1. Write a Python program to find words which are greater than given length k?\n",
    "# Ans=\n",
    "def find_words_greater_than_k(string, k):\n",
    "    words = string.split()\n",
    "    result = [word for word in words if len(word) > k]\n",
    "    return result\n",
    "\n",
    "# Example usage\n",
    "string = \"This is a sample string to demonstrate the program\"\n",
    "k = 4\n",
    "words_greater_than_k = find_words_greater_than_k(string, k)\n",
    "print(f\"Words greater than length {k}: {words_greater_than_k}\")"
   ]
  },
  {
   "cell_type": "code",
   "execution_count": null,
   "metadata": {},
   "outputs": [],
   "source": [
    "# 2. Write a Python program for removing i-th character from a string?\n",
    "# Ans=\n",
    "def remove_ith_character(string, i):\n",
    "    if i < 0 or i >= len(string):\n",
    "        return string\n",
    "    return string[:i] + string[i+1:]\n",
    "\n",
    "# Example usage\n",
    "string = \"Hello, World!\"\n",
    "i = 7\n",
    "new_string = remove_ith_character(string, i)\n",
    "print(f\"String after removing {i}-th character: {new_string}\")"
   ]
  },
  {
   "cell_type": "code",
   "execution_count": null,
   "metadata": {},
   "outputs": [],
   "source": [
    "# 3. Write a Python program to split and join a string?\n",
    "# Ans=\n",
    "def split_and_join_string(string):\n",
    "    words = string.split()  # Split the string into words\n",
    "    joined_string = \"-\".join(words)  # Join the words with a hyphen\n",
    "    return joined_string\n",
    "\n",
    "# Example usage\n",
    "string = \"This is a sample string\"\n",
    "joined_string = split_and_join_string(string)\n",
    "print(\"Joined string:\", joined_string)"
   ]
  },
  {
   "cell_type": "code",
   "execution_count": null,
   "metadata": {},
   "outputs": [],
   "source": [
    "# 4. Write a Python to check if a given string is binary string or not?\n",
    "# Ans=\n",
    "def is_binary_string(string):\n",
    "    for char in string:\n",
    "        if char != '0' and char != '1':\n",
    "            return False\n",
    "    return True\n",
    "\n",
    "# Example usage\n",
    "string1 = \"101010\"\n",
    "string2 = \"1012\"\n",
    "print(f\"Is '{string1}' a binary string? {is_binary_string(string1)}\")\n",
    "print(f\"Is '{string2}' a binary string? {is_binary_string(string2)}\")"
   ]
  },
  {
   "cell_type": "code",
   "execution_count": null,
   "metadata": {},
   "outputs": [],
   "source": [
    "# 5. Write a Python program to find uncommon words from two Strings?\n",
    "# Ans=\n",
    "def find_uncommon_words(str1, str2):\n",
    "    # Split the strings into lists of words\n",
    "    words1 = str1.split()\n",
    "    words2 = str2.split()\n",
    "\n",
    "    # Create sets of the words to remove duplicates\n",
    "    set1 = set(words1)\n",
    "    set2 = set(words2)\n",
    "\n",
    "    # Find the uncommon words by taking the symmetric difference of the sets\n",
    "    uncommon_words = set1.symmetric_difference(set2)\n",
    "\n",
    "    return uncommon_words\n",
    "\n",
    "# Example usage:\n",
    "string1 = \"Hello world foo bar\"\n",
    "string2 = \"Hello bar baz\"\n",
    "\n",
    "uncommon_words = find_uncommon_words(string1, string2)\n",
    "print(\"Uncommon words:\", uncommon_words)"
   ]
  },
  {
   "cell_type": "code",
   "execution_count": null,
   "metadata": {},
   "outputs": [],
   "source": [
    "# 6. Write a Python to find all duplicate characters in string?\n",
    "# Ans=\n",
    "def find_duplicate_characters(string):\n",
    "    # Create an empty list to store the duplicate characters\n",
    "    duplicates = []\n",
    "\n",
    "    # Create a set to keep track of characters that have been encountered\n",
    "    seen = set()\n",
    "\n",
    "    # Iterate over each character in the string\n",
    "    for char in string:\n",
    "        # Check if the character has already been encountered\n",
    "        if char in seen:\n",
    "            # If it has, add it to the duplicates list\n",
    "            duplicates.append(char)\n",
    "        else:\n",
    "            # If it hasn't, add it to the seen set\n",
    "            seen.add(char)\n",
    "\n",
    "    return duplicates\n",
    "\n",
    "# Example usage:\n",
    "input_string = \"Hello, World!\"\n",
    "\n",
    "duplicate_chars = find_duplicate_characters(input_string)\n",
    "print(\"Duplicate characters:\", duplicate_chars)"
   ]
  },
  {
   "cell_type": "code",
   "execution_count": null,
   "metadata": {},
   "outputs": [],
   "source": [
    "# 7. Write a Python Program to check if a string contains any special character?\n",
    "# Ans=\n",
    "import re\n",
    "\n",
    "def contains_special_character(string):\n",
    "    # Regular expression pattern to match special characters\n",
    "    pattern = r'[^a-zA-Z0-9\\s]'\n",
    "\n",
    "    # Use regex search to check if any special character is present\n",
    "    if re.search(pattern, string):\n",
    "        return True\n",
    "    else:\n",
    "        return False\n",
    "\n",
    "# Example usage:\n",
    "input_string = \"Hello, World!\"\n",
    "\n",
    "contains_special = contains_special_character(input_string)\n",
    "if contains_special:\n",
    "    print(\"The string contains special characters.\")\n",
    "else:\n",
    "    print(\"The string does not contain any special characters.\")"
   ]
  },
  {
   "cell_type": "code",
   "execution_count": null,
   "metadata": {},
   "outputs": [],
   "source": []
  },
  {
   "cell_type": "code",
   "execution_count": null,
   "metadata": {},
   "outputs": [],
   "source": []
  },
  {
   "cell_type": "code",
   "execution_count": null,
   "metadata": {},
   "outputs": [],
   "source": []
  },
  {
   "cell_type": "code",
   "execution_count": null,
   "metadata": {},
   "outputs": [],
   "source": []
  }
 ],
 "metadata": {
  "kernelspec": {
   "display_name": "Python 3",
   "language": "python",
   "name": "python3"
  },
  "language_info": {
   "codemirror_mode": {
    "name": "ipython",
    "version": 3
   },
   "file_extension": ".py",
   "mimetype": "text/x-python",
   "name": "python",
   "nbconvert_exporter": "python",
   "pygments_lexer": "ipython3",
   "version": "3.7.6"
  }
 },
 "nbformat": 4,
 "nbformat_minor": 4
}
