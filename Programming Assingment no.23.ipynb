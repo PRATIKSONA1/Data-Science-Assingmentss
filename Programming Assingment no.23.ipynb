{
 "cells": [
  {
   "cell_type": "markdown",
   "metadata": {},
   "source": [
    "# Programming Assingment no.23"
   ]
  },
  {
   "cell_type": "code",
   "execution_count": null,
   "metadata": {},
   "outputs": [],
   "source": [
    "# Question 1\n",
    "# Create a function that takes a number as an argument and returns True or False depending\n",
    "# on whether the number is symmetrical or not. A number is symmetrical when it is the same as\n",
    "# its reverse.\n",
    "# Examples\n",
    "# is_symmetrical(7227) ➞ True\n",
    "# is_symmetrical(12567) ➞ False\n",
    "# is_symmetrical(44444444) ➞ True\n",
    "# is_symmetrical(9939) ➞ False\n",
    "# is_symmetrical(1112111) ➞ True\n",
    "\n",
    "# Ans=\n",
    "\n",
    "def is_symmetrical(number):\n",
    "    return str(number) == str(number)[::-1]\n",
    "\n",
    "print(is_symmetrical(7227))  \n",
    "print(is_symmetrical(12567))  \n",
    "print(is_symmetrical(44444444)) \n",
    "print(is_symmetrical(9939)) \n",
    "print(is_symmetrical(1112111))  "
   ]
  },
  {
   "cell_type": "code",
   "execution_count": null,
   "metadata": {},
   "outputs": [],
   "source": [
    "# Question 2\n",
    "# Given a string of numbers separated by a comma and space, return the product of the\n",
    "# numbers.\n",
    "# Examples\n",
    "# multiply_nums(&quot;2, 3&quot;) ➞ 6\n",
    "# multiply_nums(&quot;1, 2, 3, 4&quot;) ➞ 24\n",
    "# multiply_nums(&quot;54, 75, 453, 0&quot;) ➞ 0\n",
    "# multiply_nums(&quot;10, -2&quot;) ➞ -20\n",
    "\n",
    "# Ans=\n",
    "\n",
    "def multiply_nums(numbers):\n",
    "    num_list = numbers.split(\", \")\n",
    "    product = 1\n",
    "    for num in num_list:\n",
    "        product *= int(num)\n",
    "    return product\n",
    "\n",
    "print(multiply_nums(\"2, 3\"))  \n",
    "print(multiply_nums(\"1, 2, 3, 4\"))  \n",
    "print(multiply_nums(\"54, 75, 453, 0\")) "
   ]
  },
  {
   "cell_type": "code",
   "execution_count": null,
   "metadata": {},
   "outputs": [],
   "source": [
    "# Question 3\n",
    "# Create a function that squares every digit of a number.\n",
    "# Examples\n",
    "# square_digits(9119) ➞ 811181\n",
    "# square_digits(2483) ➞ 416649\n",
    "# square_digits(3212) ➞ 9414\n",
    "# Notes\n",
    "# The function receives an integer and must return an integer.\n",
    "\n",
    "# Ans=\n",
    "\n",
    "def square_digits(number):\n",
    "    result = \"\"\n",
    "    for digit in str(number):\n",
    "        squared_digit = int(digit) ** 2\n",
    "        result += str(squared_digit)\n",
    "    return int(result)\n",
    "\n",
    "print(square_digits(9119))  \n",
    "print(square_digits(2483))  \n",
    "print(square_digits(3212))  "
   ]
  },
  {
   "cell_type": "code",
   "execution_count": null,
   "metadata": {},
   "outputs": [],
   "source": [
    "# Question 4\n",
    "# Create a function that sorts a list and removes all duplicate items from it.\n",
    "# Examples\n",
    "# setify([1, 3, 3, 5, 5]) ➞ [1, 3, 5]\n",
    "# setify([4, 4, 4, 4]) ➞ [4]\n",
    "# setify([5, 7, 8, 9, 10, 15]) ➞ [5, 7, 8, 9, 10, 15]\n",
    "# setify([3, 3, 3, 2, 1]) ➞ [1, 2, 3]\n",
    "\n",
    "# Ans=\n",
    "\n",
    "def setify(lst):\n",
    "    sorted_list = sorted(lst)\n",
    "    return list(set(sorted_list))\n",
    "\n",
    "print(setify([1, 3, 3, 5, 5]))  \n",
    "print(setify([4, 4, 4, 4]))  \n",
    "print(setify([5, 7, 8, 9, 10, 15])) \n",
    "print(setify([3, 3, 3, 2, 1]))  "
   ]
  },
  {
   "cell_type": "code",
   "execution_count": null,
   "metadata": {},
   "outputs": [],
   "source": []
  },
  {
   "cell_type": "code",
   "execution_count": null,
   "metadata": {},
   "outputs": [],
   "source": []
  },
  {
   "cell_type": "code",
   "execution_count": null,
   "metadata": {},
   "outputs": [],
   "source": []
  },
  {
   "cell_type": "code",
   "execution_count": null,
   "metadata": {},
   "outputs": [],
   "source": []
  },
  {
   "cell_type": "code",
   "execution_count": null,
   "metadata": {},
   "outputs": [],
   "source": []
  },
  {
   "cell_type": "code",
   "execution_count": null,
   "metadata": {},
   "outputs": [],
   "source": []
  },
  {
   "cell_type": "code",
   "execution_count": null,
   "metadata": {},
   "outputs": [],
   "source": []
  },
  {
   "cell_type": "code",
   "execution_count": null,
   "metadata": {},
   "outputs": [],
   "source": []
  },
  {
   "cell_type": "code",
   "execution_count": null,
   "metadata": {},
   "outputs": [],
   "source": []
  }
 ],
 "metadata": {
  "kernelspec": {
   "display_name": "Python 3",
   "language": "python",
   "name": "python3"
  },
  "language_info": {
   "codemirror_mode": {
    "name": "ipython",
    "version": 3
   },
   "file_extension": ".py",
   "mimetype": "text/x-python",
   "name": "python",
   "nbconvert_exporter": "python",
   "pygments_lexer": "ipython3",
   "version": "3.7.6"
  }
 },
 "nbformat": 4,
 "nbformat_minor": 4
}
