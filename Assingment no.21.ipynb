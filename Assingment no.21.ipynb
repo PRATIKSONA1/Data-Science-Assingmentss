{
 "cells": [
  {
   "cell_type": "markdown",
   "metadata": {},
   "source": [
    "# Assingment no.21"
   ]
  },
  {
   "cell_type": "code",
   "execution_count": null,
   "metadata": {},
   "outputs": [],
   "source": [
    "# 1. Add the current date to the text file today.txt as a string.\n",
    "Ans=\n",
    "To add the current date to the text file \"today.txt\" as a string, you can use the following code:\n",
    "\n",
    "\n",
    "from datetime import date\n",
    "\n",
    "# Get the current date\n",
    "current_date = date.today()\n",
    "\n",
    "# Convert the date to a string\n",
    "date_string = str(current_date)\n",
    "\n",
    "# Write the date string to the file\n",
    "with open(\"today.txt\", \"w\") as file:\n",
    "    file.write(date_string)\n",
    "This code uses the date module from the datetime library to get the current date. It then converts the date to a string using the str function. Finally, it opens the \"today.txt\" file in write mode (\"w\") and writes the date string to the file."
   ]
  },
  {
   "cell_type": "code",
   "execution_count": null,
   "metadata": {},
   "outputs": [],
   "source": [
    "# 2. Read the text file today.txt into the string today_string\n",
    "Ans=\n",
    "To read the contents of the file \"today.txt\" into a string called today_string, you can use the following code:\n",
    "\n",
    "\n",
    "with open(\"today.txt\", \"r\") as file:\n",
    "    today_string = file.read()\n",
    "This code opens the file \"today.txt\" in read mode (\"r\") using a with statement, which ensures that the file is properly closed after reading. It then uses the read() method to read the entire contents of the file into the today_string variable.\n",
    "\n",
    "After executing this code, the variable today_string will contain the contents of the \"today.txt\" file as a string."
   ]
  },
  {
   "cell_type": "code",
   "execution_count": null,
   "metadata": {},
   "outputs": [],
   "source": [
    "# 3. Parse the date from today_string.\n",
    "Ans=\n",
    "To parse the date from the today_string, you can use the datetime module in Python. Here's an example of how you can do it:\n",
    "\n",
    "\n",
    "from datetime import datetime\n",
    "\n",
    "date_format = \"%Y-%m-%d\"  # Assuming the date in today_string is in the format \"YYYY-MM-DD\"\n",
    "parsed_date = datetime.strptime(today_string.strip(), date_format).date()\n",
    "\n",
    "print(parsed_date)\n",
    "In this example, the datetime.strptime() function is used to parse the date from the today_string. The strip() method is called to remove any leading or trailing whitespace characters from the string before parsing. The date() method is then used to extract only the date portion from the parsed datetime object."
   ]
  },
  {
   "cell_type": "code",
   "execution_count": null,
   "metadata": {},
   "outputs": [],
   "source": [
    "# 4. List the files in your current directory\n",
    "Ans=\n",
    "To list the files in the current directory using Python, you can use the os module. Here's an example:\n",
    "\n",
    "\n",
    "import os\n",
    "\n",
    "files = os.listdir('.')\n",
    "for file in files:\n",
    "    print(file)"
   ]
  },
  {
   "cell_type": "code",
   "execution_count": null,
   "metadata": {},
   "outputs": [],
   "source": [
    "# 5. Create a list of all of the files in your parent directory (minimum five files should be available).\n",
    "Ans=\n",
    "\n",
    "To create a list of files in the parent directory, you can use the os module along with the os.path module to manipulate paths. Here's an example:\n",
    "\n",
    "import os\n",
    "\n",
    "parent_dir = os.path.abspath('..')\n",
    "files = os.listdir(parent_dir)\n",
    "file_list = [file for file in files if os.path.isfile(os.path.join(parent_dir, file))]\n",
    "\n",
    "print(file_list)\n",
    "In this example, os.path.abspath('..') retrieves the absolute path of the parent directory. \n",
    "Then, os.listdir() is used to get a list of all files and directories in the parent directory. \n",
    "The list comprehension [file for file in files if os.path.isfile(os.path.join(parent_dir, file))] filters out only the files from the list by checking if each item is a file using os.path.isfile(). Finally, the resulting list of files is printed."
   ]
  },
  {
   "cell_type": "code",
   "execution_count": null,
   "metadata": {},
   "outputs": [],
   "source": [
    "# 6. Use multiprocessing to create three separate processes. Make each one wait a random number of\n",
    "# seconds between one and five, print the current time, and then exit.\n",
    "Ans=\n",
    "Here's an example that demonstrates how to use the multiprocessing module to create three separate processes, each of which waits for a random number of seconds between one and five, prints the current time, and then exits:\n",
    "\n",
    "python\n",
    "Copy code\n",
    "import multiprocessing\n",
    "import random\n",
    "import time\n",
    "from datetime import datetime\n",
    "\n",
    "def worker():\n",
    "    wait_time = random.randint(1, 5)\n",
    "    time.sleep(wait_time)\n",
    "    current_time = datetime.now().strftime(\"%H:%M:%S\")\n",
    "    print(f\"Process {multiprocessing.current_process().name} finished at {current_time}\")\n",
    "\n",
    "if __name__ == '__main__':\n",
    "    processes = []\n",
    "    for i in range(3):\n",
    "        p = multiprocessing.Process(target=worker)\n",
    "        processes.append(p)\n",
    "        p.start()\n",
    "\n",
    "    for p in processes:\n",
    "        p.join()\n",
    "In this example, the worker function is defined to represent the task that each process will execute. Inside the function, a random wait time between one and five seconds is generated using random.randint(1, 5), and the process sleeps for that duration using time.sleep(). Then, the current time is obtained using datetime.now().strftime(\"%H:%M:%S\"), and the process name along with the current time is printed."
   ]
  },
  {
   "cell_type": "code",
   "execution_count": null,
   "metadata": {},
   "outputs": [],
   "source": [
    "# 7. Create a date object of your day of birth.\n",
    "Ans=\n",
    "To create a date object representing your day of birth, you can use the date class from the datetime module. Here's an example of how to create a date object with a specific year, month, and day:\n",
    "\n",
    "python\n",
    "Copy code\n",
    "from datetime import date\n",
    "\n",
    "birth_date = date(1990, 5, 10)\n",
    "print(birth_date)\n",
    "In the above example, the date object birth_date is created with the year 1990, month 5 (May), and day 10. You can replace these values with your own birth year, month, and day to create the corresponding date object representing your day of birth. The print statement will display the date object in the format: YYYY-MM-DD."
   ]
  },
  {
   "cell_type": "code",
   "execution_count": null,
   "metadata": {},
   "outputs": [],
   "source": [
    "8. What day of the week was your day of birth?\n",
    "Ans=\n",
    "To determine the day of the week for a specific date, you can use the strftime method of the date object and format it using the %A directive, which represents the full weekday name.\n",
    "\n",
    "Here's an example of how to determine the day of the week for a given date:\n",
    "\n",
    "python\n",
    "Copy code\n",
    "from datetime import date\n",
    "\n",
    "birth_date = date(1990, 5, 10)\n",
    "day_of_week = birth_date.strftime('%A')\n",
    "\n",
    "print(day_of_week)"
   ]
  },
  {
   "cell_type": "code",
   "execution_count": null,
   "metadata": {},
   "outputs": [],
   "source": [
    "9. When will you be (or when were you) 10,000 days old?\n",
    "Ans=\n",
    "\n",
    "To calculate the date when you will be (or were) 10,000 days old, you can use the timedelta class from the datetime module in Python. Here's an example:\n",
    "\n",
    "\n",
    "from datetime import date, timedelta\n",
    "\n",
    "birth_date = date(1990, 5, 10)\n",
    "age_in_days = timedelta(days=10000)\n",
    "target_date = birth_date + age_in_days\n",
    "\n",
    "print(target_date)"
   ]
  },
  {
   "cell_type": "code",
   "execution_count": null,
   "metadata": {},
   "outputs": [],
   "source": []
  },
  {
   "cell_type": "code",
   "execution_count": null,
   "metadata": {},
   "outputs": [],
   "source": []
  },
  {
   "cell_type": "code",
   "execution_count": null,
   "metadata": {},
   "outputs": [],
   "source": []
  },
  {
   "cell_type": "code",
   "execution_count": null,
   "metadata": {},
   "outputs": [],
   "source": []
  }
 ],
 "metadata": {
  "kernelspec": {
   "display_name": "Python 3",
   "language": "python",
   "name": "python3"
  },
  "language_info": {
   "codemirror_mode": {
    "name": "ipython",
    "version": 3
   },
   "file_extension": ".py",
   "mimetype": "text/x-python",
   "name": "python",
   "nbconvert_exporter": "python",
   "pygments_lexer": "ipython3",
   "version": "3.7.6"
  }
 },
 "nbformat": 4,
 "nbformat_minor": 4
}
