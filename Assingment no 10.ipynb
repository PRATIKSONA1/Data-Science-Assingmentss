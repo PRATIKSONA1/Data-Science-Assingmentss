{
 "cells": [
  {
   "cell_type": "markdown",
   "metadata": {},
   "source": [
    "# Assingment no.10"
   ]
  },
  {
   "cell_type": "code",
   "execution_count": null,
   "metadata": {},
   "outputs": [],
   "source": [
    "# 1. How do you distinguish between shutil.copy() and shutil.copytree()?\n",
    "Ans=\n",
    "The shutil.copy() function is used to copy a single file from source to destination while \n",
    "preserving its metadata (such as permission bits, timestamps, and file type) and creating \n",
    "any necessary directories in the destination path.\n",
    "\n",
    "The shutil.copytree() function is used to recursively copy an entire \n",
    "directory tree (a directory and all of its contents, including subdirectories and files) from source to \n",
    "destination while preserving the metadata and creating any necessary directories in the destination path.\n",
    "\n",
    "\n"
   ]
  },
  {
   "cell_type": "code",
   "execution_count": null,
   "metadata": {},
   "outputs": [],
   "source": [
    "# 2. What function is used to rename files??\n",
    "Ans=\n",
    "The os.rename() function is used to rename files."
   ]
  },
  {
   "cell_type": "code",
   "execution_count": null,
   "metadata": {},
   "outputs": [],
   "source": [
    "# 3. What is the difference between the delete functions in the send2trash and shutil modules?\n",
    "Ans=\n",
    "The delete functions in the send2trash and shutil modules differ in their behavior after deleting files.\n",
    "\n",
    "The send2trash module's send2trash() function sends files to the operating system's trash or recycle bin instead of permanently\n",
    "deleting them. This allows for easy retrieval of accidentally deleted files.\n",
    "\n",
    "The shutil module's os.remove() and os.unlink() functions permanently delete files and cannot be easily undone. The shutil.rmtree() function deletes an entire directory tree permanently.\n",
    "\n",
    "It is important to use these functions carefully and double-check that the correct files and directories are being deleted."
   ]
  },
  {
   "cell_type": "code",
   "execution_count": null,
   "metadata": {},
   "outputs": [],
   "source": [
    "# 4.ZipFile objects have a close() method just like File objects’ close() method. What ZipFile method is\n",
    "# equivalent to File objects’ open() method?\n",
    "Ans=\n",
    "The equivalent ZipFile method to File objects' open() method is ZipFile() which creates a new ZipFile object and takes a filename and mode parameter. The mode parameter defaults to read ('r') if not specified.\n",
    "Example:\n",
    "    import zipfile\n",
    "\n",
    "# Open a zip file for reading\n",
    "with zipfile.ZipFile('example.zip', 'r') as zipObj:\n",
    "    # Extract all the contents of zip file in current directory\n",
    "    zipObj.extractall()"
   ]
  },
  {
   "cell_type": "code",
   "execution_count": null,
   "metadata": {},
   "outputs": [],
   "source": [
    "# 5. Create a programme that searches a folder tree for files with a certain file extension (such as .pdf\n",
    "# or .jpg). Copy these files from whatever location they are in to a new folder.\n",
    "Ans=\n",
    "\n",
    "Here's an example program that searches a folder tree for files with a .txt extension and copies them to a new folder\n",
    "named txt_files:\n",
    "import os\n",
    "import shutil\n",
    "\n",
    "def copy_files_with_extension(src_folder, extension, dest_folder):\n",
    "    if not os.path.exists(dest_folder):\n",
    "        os.makedirs(dest_folder)\n",
    "    for foldername, subfolders, filenames in os.walk(src_folder):\n",
    "        for filename in filenames:\n",
    "            if filename.endswith(extension):\n",
    "                src_path = os.path.join(foldername, filename)\n",
    "                dest_path = os.path.join(dest_folder, filename)\n",
    "                shutil.copy(src_path, dest_path)\n",
    "                print(f\"Copied {src_path} to {dest_path}\")\n",
    "\n",
    "# Replace these paths with your own\n",
    "src_folder = '/path/to/source/folder'\n",
    "extension = '.txt'\n",
    "dest_folder = '/path/to/destination/folder/txt_files'\n",
    "\n",
    "copy_files_with_extension(src_folder, extension, dest_folder)"
   ]
  },
  {
   "cell_type": "code",
   "execution_count": null,
   "metadata": {},
   "outputs": [],
   "source": []
  },
  {
   "cell_type": "code",
   "execution_count": null,
   "metadata": {},
   "outputs": [],
   "source": []
  },
  {
   "cell_type": "code",
   "execution_count": null,
   "metadata": {},
   "outputs": [],
   "source": []
  },
  {
   "cell_type": "code",
   "execution_count": null,
   "metadata": {},
   "outputs": [],
   "source": []
  }
 ],
 "metadata": {
  "kernelspec": {
   "display_name": "Python 3",
   "language": "python",
   "name": "python3"
  },
  "language_info": {
   "codemirror_mode": {
    "name": "ipython",
    "version": 3
   },
   "file_extension": ".py",
   "mimetype": "text/x-python",
   "name": "python",
   "nbconvert_exporter": "python",
   "pygments_lexer": "ipython3",
   "version": "3.7.6"
  }
 },
 "nbformat": 4,
 "nbformat_minor": 4
}
