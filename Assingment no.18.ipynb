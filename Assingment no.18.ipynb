{
 "cells": [
  {
   "cell_type": "markdown",
   "metadata": {},
   "source": [
    "# Assingment no.18"
   ]
  },
  {
   "cell_type": "code",
   "execution_count": null,
   "metadata": {},
   "outputs": [],
   "source": [
    "# 1. Create a zoo.py file first. Define the hours() function, which prints the string &#39;Open 9-5 daily&#39;.\n",
    "# Then, use the interactive interpreter to import the zoo module and call its hours() function.\n",
    "Ans=\n",
    "To create the zoo.py file and define the hours() function, follow these steps:\n",
    "\n",
    "Create a new file named zoo.py using a text editor or an integrated development environment (IDE).\n",
    "\n",
    "Inside the zoo.py file, define the hours() function as follows:\n",
    "\n",
    "\n",
    "def hours():\n",
    "    print('Open 9-5 daily')\n",
    "Save the zoo.py file.\n",
    "Now, you can use the interactive interpreter to import the zoo module and call its hours() function. Here's an example:\n",
    "\n",
    "\n",
    ">>> import zoo\n",
    ">>> zoo.hours()\n",
    "Open 9-5 daily\n",
    "In the above example, the import zoo statement imports the zoo module, and then zoo.hours() calls the hours() function defined in the zoo module, which prints the string \"Open 9-5 daily\"."
   ]
  },
  {
   "cell_type": "code",
   "execution_count": null,
   "metadata": {},
   "outputs": [],
   "source": [
    "# 2. In the interactive interpreter, import the zoo module as menagerie and call its hours() function.\n",
    "Ans=\n",
    "To import the zoo module as menagerie and call its hours() function in the interactive interpreter, you can follow these steps:\n",
    "\n",
    "Launch the Python interactive interpreter.\n",
    "\n",
    "Enter the following command to import the zoo module as menagerie:\n",
    "\n",
    "\n",
    ">>> import zoo as menagerie\n",
    "Call the hours() function using the menagerie alias:\n",
    "\n",
    "    \n",
    "    \n",
    ">>> menagerie.hours()\n",
    "Open 9-5 daily\n",
    "In this example, the import zoo as menagerie statement imports the zoo module and assigns it the alias menagerie.\n",
    "This allows you to refer to the imported module as menagerie in your code. Then, menagerie.hours() calls the hours() function from the zoo module, which prints the string \"Open 9-5 daily\"."
   ]
  },
  {
   "cell_type": "code",
   "execution_count": null,
   "metadata": {},
   "outputs": [],
   "source": [
    "# 3. Using the interpreter, explicitly import and call the hours() function from zoo.\n",
    "Ans=\n",
    "To explicitly import and call the hours() function from the zoo module using the Python interpreter, you can follow these steps:\n",
    "\n",
    "Launch the Python interactive interpreter.\n",
    "\n",
    "Import the hours() function from the zoo module explicitly:\n",
    "\n",
    "\n",
    ">>> from zoo import hours\n",
    "Call the hours() function directly:\n",
    "  \n",
    "\n",
    "\n",
    ">>> hours()\n",
    "Open 9-5 daily\n",
    "In this example, the from zoo import hours statement imports only the hours() function from the zoo module into\n",
    "the current namespace. This allows you to directly call the hours() function without referencing the module name.\n",
    "The function call hours() then executes the hours() function and prints the string \"Open 9-5 daily\"."
   ]
  },
  {
   "cell_type": "code",
   "execution_count": null,
   "metadata": {},
   "outputs": [],
   "source": [
    "# 4. Import the hours() function as info and call it.\n",
    "Ans=\n",
    "To import the hours() function from the zoo module as info and call it, you can follow these steps:\n",
    "\n",
    "Launch the Python interactive interpreter.\n",
    "\n",
    "Import the hours() function from the zoo module and assign it the alias info:\n",
    "\n",
    "    \n",
    ">>> from zoo import hours as info\n",
    "Call the info() function directly:\n",
    "\n",
    "    \n",
    ">>> info()\n",
    "Open 9-5 daily\n",
    "In this example, the from zoo import hours as info statement imports the hours() function from the zoo module and assigns it the alias info. This allows you to call the function using the info() name. \n",
    "The function call info() then executes the hours() function and prints the string \"Open 9-5 daily\"."
   ]
  },
  {
   "cell_type": "code",
   "execution_count": null,
   "metadata": {},
   "outputs": [],
   "source": [
    "# 5. Create a plain dictionary with the key-value pairs &#39;a&#39;: 1, &#39;b&#39;: 2, and &#39;c&#39;: 3, and print it out.\n",
    "Ans=\n",
    "To create a plain dictionary with the key-value pairs 'a': 1, 'b': 2, and 'c': 3, and print it out, you can follow these steps:\n",
    "\n",
    "Define the dictionary with the desired key-value pairs:\n",
    "\n",
    "my_dict = {'a': 1, 'b': 2, 'c': 3}\n",
    "Print the dictionary using the print() function:\n",
    "\n",
    "    \n",
    "print(my_dict)\n",
    "Here's the complete code:\n",
    "\n",
    "\n",
    "my_dict = {'a': 1, 'b': 2, 'c': 3}\n",
    "print(my_dict)\n",
    "Output:\n",
    "\n",
    "\n",
    "{'a': 1, 'b': 2, 'c': 3}\n",
    "In this code, the dictionary my_dict is created with the keys 'a', 'b', and 'c', and their corresponding values \n",
    "1, 2, and 3. The print(my_dict) statement prints the dictionary, displaying the key-value pairs."
   ]
  },
  {
   "cell_type": "code",
   "execution_count": null,
   "metadata": {},
   "outputs": [],
   "source": [
    "6.Make an OrderedDict called fancy from the same pairs listed in 5 and print it. Did it print in the\n",
    "same order as plain?\n",
    "Ans=\n",
    "\n",
    "To create an OrderedDict called fancy from the same key-value pairs listed in the previous question and print it, you can use the collections module. Here's an example:\n",
    "\n",
    "\n",
    "from collections import OrderedDict\n",
    "\n",
    "fancy = OrderedDict([('a', 1), ('b', 2), ('c', 3)])\n",
    "print(fancy)"
   ]
  },
  {
   "cell_type": "code",
   "execution_count": null,
   "metadata": {},
   "outputs": [],
   "source": [
    "# 7. Make a default dictionary called dict_of_lists and pass it the argument list. Make the list\n",
    "# dict_of_lists[&#39;a&#39;] and append the value &#39;something for a&#39; to it in one assignment. Print\n",
    "# dict_of_lists[&#39;a&#39;].\n",
    "Ans=\n",
    "To create a defaultdict called dict_of_lists and assign a list to the key 'a' with the value 'something for a', you can use the collections module. Here's an example:\n",
    "\n",
    "\n",
    "from collections import defaultdict\n",
    "\n",
    "dict_of_lists = defaultdict(list)\n",
    "dict_of_lists['a'].append('something for a')\n",
    "print(dict_of_lists['a'])\n",
    "Output:\n",
    "\n",
    "\n",
    "['something for a']"
   ]
  },
  {
   "cell_type": "code",
   "execution_count": null,
   "metadata": {},
   "outputs": [],
   "source": []
  },
  {
   "cell_type": "code",
   "execution_count": null,
   "metadata": {},
   "outputs": [],
   "source": []
  },
  {
   "cell_type": "code",
   "execution_count": null,
   "metadata": {},
   "outputs": [],
   "source": []
  },
  {
   "cell_type": "code",
   "execution_count": null,
   "metadata": {},
   "outputs": [],
   "source": []
  },
  {
   "cell_type": "code",
   "execution_count": null,
   "metadata": {},
   "outputs": [],
   "source": []
  },
  {
   "cell_type": "code",
   "execution_count": null,
   "metadata": {},
   "outputs": [],
   "source": []
  }
 ],
 "metadata": {
  "kernelspec": {
   "display_name": "Python 3",
   "language": "python",
   "name": "python3"
  },
  "language_info": {
   "codemirror_mode": {
    "name": "ipython",
    "version": 3
   },
   "file_extension": ".py",
   "mimetype": "text/x-python",
   "name": "python",
   "nbconvert_exporter": "python",
   "pygments_lexer": "ipython3",
   "version": "3.7.6"
  }
 },
 "nbformat": 4,
 "nbformat_minor": 4
}
