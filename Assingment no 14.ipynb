{
 "cells": [
  {
   "cell_type": "markdown",
   "metadata": {},
   "source": [
    "# Assingment no 14"
   ]
  },
  {
   "cell_type": "code",
   "execution_count": null,
   "metadata": {},
   "outputs": [],
   "source": [
    "# 1. What does RGBA stand for?\n",
    "Ans=\n",
    "RGBA stands for Red, Green, Blue, Alpha."
   ]
  },
  {
   "cell_type": "code",
   "execution_count": null,
   "metadata": {},
   "outputs": [],
   "source": [
    "# 2. From the Pillow module, how do you get the RGBA value of any images?\n",
    "Ans=\n",
    "To get the RGBA (Red, Green, Blue, Alpha) value of any image using the Pillow module in Python, you can use the getpixel() method of the Image class. The getpixel() method returns the pixel value at a given position as a tuple containing RGBA values.\n",
    "\n",
    "Here's an example:\n",
    "\n",
    "\n",
    "from PIL import Image\n",
    "\n",
    "# Open the image\n",
    "img = Image.open('example.png')\n",
    "\n",
    "# Get the RGBA value at position (0, 0)\n",
    "rgba = img.getpixel((0, 0))\n",
    "\n",
    "# Print the RGBA value\n",
    "print(rgba)"
   ]
  },
  {
   "cell_type": "code",
   "execution_count": null,
   "metadata": {},
   "outputs": [],
   "source": [
    "#3. What is a box tuple, and how does it work?\n",
    "Ans=\n",
    "A box tuple is a tuple of four integer values representing a rectangular region in an image. The four integers represent the left, top, right, and bottom coordinates of the region, respectively.\n",
    "\n",
    "The box tuple is used to crop or copy a rectangular region from an image. For example, if we have an image object named img, we can crop a region from it using a box tuple as follows:\n",
    "\n",
    "\n",
    "box = (100, 100, 200, 200)  # left, top, right, bottom\n",
    "cropped_region = img.crop(box)\n",
    "In this example, the crop() method creates a new image object containing the rectangular region defined by the box tuple. The resulting image will have width = 200 - 100 and height = 200 - 100."
   ]
  },
  {
   "cell_type": "code",
   "execution_count": null,
   "metadata": {},
   "outputs": [],
   "source": [
    "#4. Use your image and load in notebook then, How can you find out the width and height of an\n",
    "Image object?\n",
    "Ans=\n",
    "To find out the width and height of an Image object, you can use the size attribute which returns a tuple containing the width and height of the image. Here's an example:\n",
    "\n",
    "\n",
    "from PIL import Image\n",
    "\n",
    "# Open the image file\n",
    "image = Image.open(\"example.png\")\n",
    "\n",
    "# Get the size of the image\n",
    "width, height = image.size\n",
    "\n",
    "# Print the size of the image\n",
    "print(f\"Width: {width}px, Height: {height}px\")"
   ]
  },
  {
   "cell_type": "code",
   "execution_count": null,
   "metadata": {},
   "outputs": [],
   "source": [
    "#5. What method would you call to get Image object for a 100×100 image, excluding the lower-left\n",
    "quarter of it?\n",
    "Ans=\n",
    "\n",
    "To get an Image object for a 100x100 image, excluding the lower-left quarter of it, you can use the crop() method. The crop() method returns a new image object that contains a rectangular portion of the original image."
   ]
  },
  {
   "cell_type": "code",
   "execution_count": null,
   "metadata": {},
   "outputs": [],
   "source": [
    "# 6. After making changes to an Image object, how could you save it as an image file?\n",
    "Ans=\n",
    "After making changes to an Image object, you can save it as an image file using the save() method.\n",
    "\n",
    "For example, if img is your modified Image object, you can save it as a JPEG file with the filename \"new_image.jpg\" by calling:\n",
    "\n",
    "python\n",
    "Copy code\n",
    "img.save(\"new_image.jpg\", \"JPEG\")\n",
    "You can replace \"JPEG\" with other file formats supported by Pillow, such as \"PNG\" or \"BMP\"."
   ]
  },
  {
   "cell_type": "code",
   "execution_count": null,
   "metadata": {},
   "outputs": [],
   "source": [
    "# 7. What module contains Pillow’s shape-drawing code?\n",
    "Ans=\n",
    "Pillow’s shape-drawing code is contained in the ImageDraw module."
   ]
  },
  {
   "cell_type": "code",
   "execution_count": null,
   "metadata": {},
   "outputs": [],
   "source": [
    "# 8. Image objects do not have drawing methods. What kind of object does? How do you get this kind\n",
    "# of object?\n",
    "Ans=\n",
    "\n",
    "The ImageDraw module in the Pillow library provides various drawing methods. \n",
    "You can create an ImageDraw object by calling the ImageDraw.Draw() function and passing\n",
    "in an Image object. For example:\n",
    "    \n",
    "    \n",
    "from PIL import Image, ImageDraw\n",
    "\n",
    "# create an Image object\n",
    "img = Image.new('RGB', (200, 200), color='white')\n",
    "\n",
    "# create an ImageDraw object for drawing on the image\n",
    "draw = ImageDraw.Draw(img)\n",
    "\n",
    "# use drawing methods on the ImageDraw object\n",
    "draw.rectangle((50, 50, 150, 150), fill='red')\n",
    "\n",
    "# save the modified image\n",
    "img.save('modified_image.png')"
   ]
  }
 ],
 "metadata": {
  "kernelspec": {
   "display_name": "Python 3",
   "language": "python",
   "name": "python3"
  },
  "language_info": {
   "codemirror_mode": {
    "name": "ipython",
    "version": 3
   },
   "file_extension": ".py",
   "mimetype": "text/x-python",
   "name": "python",
   "nbconvert_exporter": "python",
   "pygments_lexer": "ipython3",
   "version": "3.7.6"
  }
 },
 "nbformat": 4,
 "nbformat_minor": 4
}
