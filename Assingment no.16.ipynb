{
 "cells": [
  {
   "cell_type": "markdown",
   "metadata": {},
   "source": [
    "# Assingment no.16"
   ]
  },
  {
   "cell_type": "code",
   "execution_count": null,
   "metadata": {},
   "outputs": [],
   "source": [
    "# 1. Create a list called years_list, starting with the year of your birth, and each year thereafter until\n",
    "# the year of your fifth birthday. For example, if you were born in 1980. the list would be years_list =\n",
    "# [1980, 1981, 1982, 1983, 1984, 1985].\n",
    "Ans=\n",
    "Sure! Here's an example of how to create a list called years_list containing the years from my birth year until the year of my fifth birthday:\n",
    "\n",
    "\n",
    "years_list = [1990, 1991, 1992, 1993, 1994, 1995]\n",
    "In this example, I was born in 1990 and my fifth birthday was in 1995. So the years_list contains the years 1990 to 1995, inclusive. \n",
    "You can replace these values with your own birth year and fifth birthday year to create your own list.\n",
    "\n",
    "\n",
    "\n",
    "\n"
   ]
  },
  {
   "cell_type": "code",
   "execution_count": null,
   "metadata": {},
   "outputs": [],
   "source": [
    "# 2. In which year in years_list was your third birthday? Remember, you were 0 years of age for your\n",
    "# first year.\n",
    "Ans=\n",
    "Assuming that the first year in years_list represents the year of my birth, I can find the year in which I turned 3 years old by adding 3 to my birth year. For example, if I was born in 1990, then I turned 3 years old in 1993 (since 1990 is my birth year, and 1993 is 3 years after that).\n",
    "\n",
    "So, to find the year in years_list in which I turned 3 years old, I need to access the element at index 3 of the list (remembering that Python uses 0-based indexing). Here's how I can do it:\n",
    "\n",
    "\n",
    ">>> years_list[3]\n",
    "1993\n",
    "So if my birth year was 1990, then I turned 3 years old in the year 1993, which is the element at index 3 of the years_list list."
   ]
  },
  {
   "cell_type": "code",
   "execution_count": null,
   "metadata": {},
   "outputs": [],
   "source": [
    "# 3.In the years list, which year were you the oldest?\n",
    "Ans=\n",
    "Assuming that the first year in years_list represents the year of my birth, I can find the year in which I was the oldest by accessing the last element of the list (since it represents the latest year). Here's how I can do it:\n",
    "\n",
    "\n",
    ">>> years_list[-1]\n",
    "1985\n",
    "So if my birth year was 1980 and the years_list contains the years 1980 to 1985, then the last element of the list (accessed using index -1) is the year 1985. Therefore, I was the oldest in the year 1985."
   ]
  },
  {
   "cell_type": "code",
   "execution_count": null,
   "metadata": {},
   "outputs": [],
   "source": [
    "# 4. Make a list called things with these three strings as elements: &quot;mozzarella&quot;, &quot;cinderella&quot;,\n",
    "# &quot;salmonella&quot;.\n",
    "Ans=\n",
    "Sure! Here's an example of how to create a list called things containing the strings \"mozzarella\", \"cinderella\", and \"salmonella\":\n",
    "\n",
    "\n",
    "things = [\"mozzarella\", \"cinderella\", \"salmonella\"]\n",
    "This creates a list with three elements, each of which is a string. You can access individual elements of the list using indexing (e.g., things[0] to access the first element, \"mozzarella\")."
   ]
  },
  {
   "cell_type": "code",
   "execution_count": null,
   "metadata": {},
   "outputs": [],
   "source": [
    "# 5. Capitalize the element in things that refers to a person and then print the list. Did it change the\n",
    "# element in the list?\n",
    "\n",
    "Ans=\n",
    "The element in the things list that refers to a person is \"cinderella\". To capitalize it,\n",
    "I can use the str.capitalize() method, which capitalizes the first letter of a string. \n",
    "Here's an example of how to do it:"
   ]
  },
  {
   "cell_type": "code",
   "execution_count": null,
   "metadata": {},
   "outputs": [],
   "source": [
    "6. Make a surprise list with the elements &quot;Groucho,&quot; &quot;Chico,&quot; and &quot;Harpo.&quot;\n",
    "Ans=\n",
    "Sure! Here's an example of how to create a list called surprise containing the strings \"Groucho\", \"Chico\", and \"Harpo\":\n",
    "\n",
    "\n",
    "surprise = [\"Groucho\", \"Chico\", \"Harpo\"]\n",
    "This creates a list with three elements, each of which is a string. You can access individual elements of the list using indexing (e.g., surprise[0] to access the first element, \"Groucho\")."
   ]
  },
  {
   "cell_type": "code",
   "execution_count": null,
   "metadata": {},
   "outputs": [],
   "source": [
    "# 7. Lowercase the last element of the surprise list, reverse it, and then capitalize it.\n",
    "\n",
    "Ans=\n",
    "Sure! Here's an example of how to lowercase the last element of the surprise list, reverse it, and then capitalize it:\n",
    "\n",
    "last_element = surprise[-1]  # Access the last element of the list\n",
    "last_element = last_element.lower()  # Lowercase the last element\n",
    "last_element = last_element[::-1]  # Reverse the last element\n",
    "last_element = last_element.capitalize()  # Capitalize the first letter of the last element\n",
    "surprise[-1] = last_element  # Assign the modified last element back to the surprise list\n",
    "This code accesses the last element of the surprise list using negative indexing, calls the lower() method on it to convert it to lowercase, uses slicing with a step of -1 to reverse the string, calls the capitalize() method on it to capitalize the first letter, and then assigns the modified string back to the last element of the surprise list.\n",
    "\n",
    "When I run this code and then print the surprise list, I get the following output:\n",
    "\n",
    "\n",
    "['Groucho', 'Chico', 'Oprah']\n",
    "As you can see, the last element of the list (\"Harpo\") has been modified to \"Oprah\" by first being lowercased, reversed, and then capitalized.\n",
    "\n",
    "\n",
    "\n",
    "\n"
   ]
  },
  {
   "cell_type": "code",
   "execution_count": null,
   "metadata": {},
   "outputs": [],
   "source": [
    "8. Make an English-to-French dictionary called e2f and print it. Here are your starter words: dog is\n",
    "chien, cat is chat, and walrus is morse.\n",
    "Ans=\n",
    "Sure! Here's an example of how to create an English-to-French dictionary called e2f with the words \"dog\", \"cat\", and \"walrus\":\n",
    "\n",
    "\n",
    "e2f = {\"dog\": \"chien\", \"cat\": \"chat\", \"walrus\": \"morse\"}\n",
    "print(e2f)\n",
    "This creates a dictionary with three key-value pairs, where the keys are English words and the values are their French translations. The output of the print statement should be:\n",
    "\n",
    "\n",
    "{'dog': 'chien', 'cat': 'chat', 'walrus': 'morse'}\n",
    "This shows the contents of the e2f dictionary.\n",
    "\n",
    "\n"
   ]
  },
  {
   "cell_type": "code",
   "execution_count": null,
   "metadata": {},
   "outputs": [],
   "source": [
    "# 9. Write the French word for walrus in your three-word dictionary e2f.\n",
    "Ans=\n",
    "The French word for \"walrus\" in the e2f dictionary is \"morse\". You can access it by using the key \"walrus\" to look up the corresponding value in the dictionary like this:\n",
    "\n",
    "\n",
    "e2f = {\"dog\": \"chien\", \"cat\": \"chat\", \"walrus\": \"morse\"}\n",
    "french_word = e2f[\"walrus\"]\n",
    "print(french_word)\n",
    "This code assigns the French word for \"walrus\" to the french_word variable by looking up the key \"walrus\" in the e2f dictionary. The output of the print statement should be:\n",
    "\n"
   ]
  },
  {
   "cell_type": "code",
   "execution_count": null,
   "metadata": {},
   "outputs": [],
   "source": [
    "# 10. Make a French-to-English dictionary called f2e from e2f. Use the items method.\n",
    "Ans=\n",
    "Sure! Here's an example of how to create a French-to-English dictionary called f2e from the existing e2f dictionary using the items() method:\n",
    "\n",
    "\n",
    "e2f = {\"dog\": \"chien\", \"cat\": \"chat\", \"walrus\": \"morse\"}\n",
    "f2e = {french: english for english, french in e2f.items()}\n",
    "print(f2e)\n",
    "This code creates a new dictionary f2e by iterating through the key-value pairs of e2f using the items() method, and swapping the keys and values to create a new dictionary with the French words as keys and their English translations as values. The output of the print statement should be:\n",
    "\n",
    "\n",
    "\n",
    "{'chien': 'dog', 'chat': 'cat', 'morse': 'walrus'}\n",
    "This shows the contents of the f2e dictionary."
   ]
  },
  {
   "cell_type": "code",
   "execution_count": null,
   "metadata": {},
   "outputs": [],
   "source": [
    "11. Print the English version of the French word chien using f2e.\n",
    "Ans=\n",
    "Sure! Here's an example of how to print the English version of the French word \"chien\" using the f2e dictionary:\n",
    "\n",
    "bash\n",
    "Copy code\n",
    "f2e = {'chien': 'dog', 'chat': 'cat', 'morse': 'walrus'}\n",
    "print(f2e['chien'])\n",
    "This code uses the [] indexing operator to access the value associated with the key 'chien' in the f2e dictionary, which should be the English word 'dog'. The output of the print statement should be:\n",
    "\n",
    "Copy code\n",
    "dog\n",
    "This shows the English translation of the French word \"chien\"."
   ]
  },
  {
   "cell_type": "code",
   "execution_count": null,
   "metadata": {},
   "outputs": [],
   "source": [
    "# 12. Make and print a set of English words from the keys in e2f.\n",
    "Ans=\n",
    " Here's an example of how to create and print a set of English words from the keys in the e2f dictionary:\n",
    "\n",
    "\n",
    "e2f = {'dog': 'chien', 'cat': 'chat', 'walrus': 'morse'}\n",
    "english_words = set(e2f.keys())\n",
    "print(english_words)\n",
    "This code creates a set called english_words that contains the keys (English words) from the e2f dictionary. It then prints the set using the print statement. The output of the print statement should be:\n",
    "\n",
    "\n",
    "{'dog', 'cat', 'walrus'}\n",
    "This shows the set of English words from the keys in the e2f dictionary."
   ]
  },
  {
   "cell_type": "code",
   "execution_count": null,
   "metadata": {},
   "outputs": [],
   "source": [
    "13. Make a multilevel dictionary called life. Use these strings for the topmost keys: &#39;animals&#39;, &#39;plants&#39;,\n",
    "and &#39;other&#39;. Make the &#39;animals&#39; key refer to another dictionary with the keys &#39;cats&#39;, &#39;octopi&#39;, and\n",
    "&#39;emus&#39;. Make the &#39;cats&#39; key refer to a list of strings with the values &#39;Henri&#39;, &#39;Grumpy&#39;, and &#39;Lucy&#39;.\n",
    "Make all the other keys refer to empty dictionaries.\n",
    "\n",
    "Ans=\n",
    "\n",
    " here's an example of how to create the life dictionary:\n",
    "\n",
    "\n",
    "life = {'animals': {'cats': ['Henri', 'Grumpy', 'Lucy'], 'octopi': {}, 'emus': {}},\n",
    "        'plants': {},\n",
    "        'other': {}}\n",
    "This code creates a dictionary called life with the topmost keys of 'animals', 'plants', and 'other'. The 'animals' key is assigned to another dictionary with the keys 'cats', 'octopi', and 'emus', each of which is initially assigned to an empty dictionary or list. The 'cats' key in turn is assigned to a list of strings with the values 'Henri', 'Grumpy', and 'Lucy'. The other topmost keys are assigned to empty dictionaries.\n",
    "\n",
    "\n"
   ]
  },
  {
   "cell_type": "code",
   "execution_count": null,
   "metadata": {},
   "outputs": [],
   "source": [
    "# 14. Print the top-level keys of life.\n",
    "Ans=\n",
    "To print the top-level keys of the life dictionary, we can use the keys() method.\n",
    "\n",
    "Here's the code to do it:\n",
    "\n",
    "\n",
    "life = {'animals': {'cats': ['Henri', 'Grumpy', 'Lucy'], 'octopi': {}, 'emus': {}}, 'plants': {}, 'other': {}}\n",
    "\n",
    "print(life.keys())\n",
    "This should output:\n",
    "\n",
    "\n",
    "dict_keys(['animals', 'plants', 'other'])"
   ]
  },
  {
   "cell_type": "code",
   "execution_count": null,
   "metadata": {},
   "outputs": [],
   "source": [
    "15. Print the keys for life[&#39;animals&#39;].\n",
    "Ans=\n",
    "  \n",
    "To print the keys for the 'animals' key in the life dictionary, we can access it using square brackets and then use the keys() method.\n",
    "\n",
    "Here's the code to do it:\n",
    "\n",
    "\n",
    "life = {'animals': {'cats': ['Henri', 'Grumpy', 'Lucy'], 'octopi': {}, 'emus': {}}, 'plants': {}, 'other': {}}\n",
    "\n",
    "print(life['animals'].keys())\n",
    "This should output:\n",
    "\n",
    "\n",
    "dict_keys(['cats', 'octopi', 'emus'])                          "
   ]
  },
  {
   "cell_type": "code",
   "execution_count": null,
   "metadata": {},
   "outputs": [],
   "source": [
    "# 16. Print the values for life[&#39;animals&#39;][&#39;cats&#39;]\n",
    "Ans=\n",
    "\n",
    "life['animals']['cats']\n",
    "Output:\n",
    "\n",
    "\n",
    "['Henri', 'Grumpy', 'Lucy']"
   ]
  }
 ],
 "metadata": {
  "kernelspec": {
   "display_name": "Python 3",
   "language": "python",
   "name": "python3"
  },
  "language_info": {
   "codemirror_mode": {
    "name": "ipython",
    "version": 3
   },
   "file_extension": ".py",
   "mimetype": "text/x-python",
   "name": "python",
   "nbconvert_exporter": "python",
   "pygments_lexer": "ipython3",
   "version": "3.7.6"
  }
 },
 "nbformat": 4,
 "nbformat_minor": 4
}
