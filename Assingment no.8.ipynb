{
 "cells": [
  {
   "cell_type": "markdown",
   "metadata": {},
   "source": [
    "# Assingment no .8"
   ]
  },
  {
   "cell_type": "code",
   "execution_count": null,
   "metadata": {},
   "outputs": [],
   "source": [
    "# 1. Is the Python Standard Library included with PyInputPlus?\n",
    "Ans=\n",
    "Yes, the Python Standard Library is included with PyInputPlus. PyInputPlus is built\n",
    "on top of the Python Standard Library's input() function and adds additional features and input validation."
   ]
  },
  {
   "cell_type": "code",
   "execution_count": null,
   "metadata": {},
   "outputs": [],
   "source": [
    "# 2. Why is PyInputPlus commonly imported with import pyinputplus as pypi?\n",
    "Ans=\n",
    "PyInputPlus is commonly imported with the name pypi using import pyinputplus as pypi\n",
    "to make it easier to reference the module in your code with a shorter alias. Since the\n",
    "module name pyinputplus is quite long, using an alias like pypi can make the code more\n",
    "readable and concise. It's a common practice in Python to use shorter aliases for long \n",
    "module names or to avoid naming conflicts with other modules."
   ]
  },
  {
   "cell_type": "code",
   "execution_count": null,
   "metadata": {},
   "outputs": [],
   "source": [
    "# 3. How do you distinguish between inputInt() and inputFloat()?\n",
    "Ans=\n",
    "The inputInt() and inputFloat() functions are both PyInputPlus functions for accepting user input in Python, but they are used to accept different types of input.\n",
    "\n",
    "The inputInt() function is used to accept integer values from the user, while the inputFloat() function is used to accept floating-point numbers from the user.\n",
    "\n",
    "For example, if you want to accept an integer value from the user, you would use the inputInt() function as follows:\n",
    "\n",
    "\n",
    "import pyinputplus as pypi\n",
    "\n",
    "num = pypi.inputInt(prompt='Please enter an integer: ')\n",
    "If you want to accept a floating-point number from the user, you would use the inputFloat() function instead:"
   ]
  },
  {
   "cell_type": "code",
   "execution_count": null,
   "metadata": {},
   "outputs": [],
   "source": [
    "#4. Using PyInputPlus, how do you ensure that the user enters a whole number between 0 and 99?\n",
    "Ans=\n",
    "To ensure that the user enters a whole number between 0 and 99 using PyInputPlus, you can use the inputInt() function with the min and max parameters set to 0 and 99, respectively. Here's an example code snippet:\n",
    "\n",
    "\n",
    "import pyinputplus as pypi\n",
    "\n",
    "num = pypi.inputInt(prompt=\"Please enter a number between 0 and 99: \", min=0, max=99)\n",
    "print(\"You entered:\", num)\n",
    "This code will prompt the user to enter a number between 0 and 99, and will keep asking until a valid input is given.\n",
    "The inputInt() function will ensure that the input is a whole number, and the min and max parameters will restrict the\n",
    "range of valid inputs to between 0 and 99 (inclusive)."
   ]
  },
  {
   "cell_type": "code",
   "execution_count": null,
   "metadata": {},
   "outputs": [],
   "source": [
    "# 5. What is transferred to the keyword arguments allowRegexes and blockRegexes?\n",
    "Ans=\n",
    "The allowRegexes and blockRegexes keyword arguments in PyInputPlus are used to specify lists of regular expression strings.\n",
    "\n",
    "allowRegexes: Only inputs that match one or more of these regexes will be allowed.\n",
    "blockRegexes: Inputs that match one or more of these regexes will be blocked.\n",
    "If both allowRegexes and blockRegexes are given, allowRegexes takes precedence."
   ]
  },
  {
   "cell_type": "code",
   "execution_count": null,
   "metadata": {},
   "outputs": [],
   "source": [
    "# 6. If a blank input is entered three times, what does inputStr(limit=3) do?\n",
    "Ans=\n",
    "If a blank input is entered three times, inputStr(limit=3) will raise a TimeoutException. By default,\n",
    "inputStr() will raise a TimeoutException if no input is entered for a period of time (default is 5 seconds), \n",
    "but if the limit parameter is set to an integer value, it will limit the number of tries the user has to enter\n",
    "valid input beforeraising a TimeoutException."
   ]
  },
  {
   "cell_type": "code",
   "execution_count": null,
   "metadata": {},
   "outputs": [],
   "source": [
    "# 7. If blank input is entered three times, what does inputStr(limit=3, default=&#39;hello&#39;) do?\n",
    "Ans=\n",
    "If blank input is entered three times and inputStr(limit=3, default='hello') is used, the function will \n",
    "return the default value 'hello'. This is because the default parameter specifies the value to return if\n",
    "the user enters blank input. Since the limit is set to 3, the function will prompt the user to input a \n",
    "value up to three times. If the user fails to enter a value after three attempts, the function will return\n",
    "the default value instead of \n",
    "raising a TimeoutException."
   ]
  },
  {
   "cell_type": "code",
   "execution_count": null,
   "metadata": {},
   "outputs": [],
   "source": []
  },
  {
   "cell_type": "code",
   "execution_count": null,
   "metadata": {},
   "outputs": [],
   "source": []
  },
  {
   "cell_type": "code",
   "execution_count": null,
   "metadata": {},
   "outputs": [],
   "source": []
  }
 ],
 "metadata": {
  "kernelspec": {
   "display_name": "Python 3",
   "language": "python",
   "name": "python3"
  },
  "language_info": {
   "codemirror_mode": {
    "name": "ipython",
    "version": 3
   },
   "file_extension": ".py",
   "mimetype": "text/x-python",
   "name": "python",
   "nbconvert_exporter": "python",
   "pygments_lexer": "ipython3",
   "version": "3.7.6"
  }
 },
 "nbformat": 4,
 "nbformat_minor": 4
}
