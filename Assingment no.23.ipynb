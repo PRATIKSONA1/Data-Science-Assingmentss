{
 "cells": [
  {
   "cell_type": "markdown",
   "metadata": {},
   "source": [
    "# Assingment no.23"
   ]
  },
  {
   "cell_type": "code",
   "execution_count": null,
   "metadata": {},
   "outputs": [],
   "source": [
    "# 1. What is the result of the code, and why?\n",
    "# &gt;&gt;&gt; def func(a, b=6, c=8):\n",
    "# print(a, b, c)\n",
    "# &gt;&gt;&gt; func(1, 2)\n",
    "Ans=\n",
    "The result of the code will be:\n",
    "\n",
    "\n",
    "1 2 8\n",
    "Explanation:\n",
    "\n",
    "The function func() is defined with three parameters: a, b, and c. The parameter b has a default value of 6, and the parameter c has a default value of 8.\n",
    "\n",
    "When the function func() is called with arguments 1 and 2, the value of 1 is assigned to a and the value of 2 is assigned to b. Since no value is provided for c, it takes its default value of 8.\n",
    "\n",
    "Therefore, when the function is executed, it prints 1 for a, 2 for b, and 8 for c."
   ]
  },
  {
   "cell_type": "code",
   "execution_count": null,
   "metadata": {},
   "outputs": [],
   "source": [
    "2. What is the result of this code, and why?\n",
    "&gt;&gt;&gt; def func(a, b, c=5):\n",
    "print(a, b, c)\n",
    "&gt;&gt;&gt; func(1, c=3, b=2)\n",
    "Ans=\n",
    "The result of the code will be:\n",
    "\n",
    "\n",
    "1 2 3\n",
    "Explanation:\n",
    "\n",
    "The function func() is defined with three parameters: a, b, and c. The parameter c has a default value of 5.\n",
    "\n",
    "When the function func() is called with arguments 1 for a, 3 for c, and 2 for b, the arguments a and b are assigned values 1 and 2 respectively. The argument c is explicitly assigned the value 3 using the keyword argument syntax (c=3).\n",
    "\n",
    "Therefore, when the function is executed, it prints 1 for a, 2 for b, and 3 for c. The explicit assignment of 3 for c overrides the default value of 5."
   ]
  },
  {
   "cell_type": "code",
   "execution_count": null,
   "metadata": {},
   "outputs": [],
   "source": [
    "# 3. How about this code: what is its result, and why?\n",
    "# &gt;&gt;&gt; def func(a, *pargs):\n",
    "# print(a, pargs)\n",
    "# &gt;&gt;&gt; func(1, 2, 3)\n",
    "Ans=\n",
    "The result of the code will be:\n",
    "\n",
    "\n",
    "1 (2, 3)\n",
    "Explanation:\n",
    "\n",
    "The function func() is defined with a parameter a and a special parameter *pargs. The *pargs parameter allows the function to accept any number of additional positional arguments.\n",
    "\n",
    "When the function func() is called with arguments 1, 2, and 3, the value 1 is assigned to a, and the remaining arguments 2 and 3 are packed into a tuple and assigned to pargs.\n",
    "\n",
    "Therefore, when the function is executed, it prints 1 for a and (2, 3) for pargs, indicating that 2 and 3 are treated as additional arguments passed to the function."
   ]
  },
  {
   "cell_type": "code",
   "execution_count": null,
   "metadata": {},
   "outputs": [],
   "source": [
    "# 4. What does this code print, and why?\n",
    "# &gt;&gt;&gt; def func(a, **kargs):\n",
    "# print(a, kargs)\n",
    "# &gt;&gt;&gt; func(a=1, c=3, b=2)\n",
    "Ans=\n",
    "The code will print:\n",
    "\n",
    "\n",
    "1 {'c': 3, 'b': 2}\n",
    "Explanation:\n",
    "\n",
    "The function func() is defined with a parameter a and a special parameter **kargs. The **kargs parameter allows the function to accept any number of additional keyword arguments.\n",
    "\n",
    "When the function func() is called with keyword arguments a=1, c=3, and b=2, the value 1 is assigned to a, and the remaining keyword arguments c=3 and b=2 are packed into a dictionary and assigned to kargs.\n",
    "\n",
    "Therefore, when the function is executed, it prints 1 for a and {'c': 3, 'b': 2} for kargs, indicating that c=3 and b=2 are treated as additional keyword arguments passed to the function.\n",
    "\n",
    "\n",
    "\n",
    "\n",
    "\n",
    "\n"
   ]
  },
  {
   "cell_type": "code",
   "execution_count": null,
   "metadata": {},
   "outputs": [],
   "source": [
    "5. What gets printed by this, and explain?\n",
    "&gt;&gt;&gt; def func(a, b, c=8, d=5): print(a, b, c, d)\n",
    "&gt;&gt;&gt; func(1, *(5, 6))\n",
    "Ans=\n",
    "\n",
    "The code will print:\n",
    "\n",
    "    \n",
    "1 5 6 5\n",
    "Explanation:\n",
    "\n",
    "The function func() is defined with four parameters: a, b, c, and d. The parameters c and d have default values of 8 and 5 respectively.\n",
    "\n",
    "When the function func() is called with arguments 1 and *(5, 6), the value 1 is assigned to a, and the tuple (5, 6) is unpacked and assigned to b. Since b corresponds to the second parameter, it receives the values 5 and 6 respectively.\n",
    "\n",
    "The remaining parameters c and d take their default values 8 and 5 respectively.\n",
    "\n",
    "Therefore, when the function is executed, it prints 1 for a, 5 for b, 6 for c, and 5 for d."
   ]
  },
  {
   "cell_type": "code",
   "execution_count": null,
   "metadata": {},
   "outputs": [],
   "source": [
    "# 6. what is the result of this, and explain?\n",
    "# &gt;&gt;&gt; def func(a, b, c): a = 2; b[0] = &#39;x&#39;; c[&#39;a&#39;] = &#39;y&#39;\n",
    "# &gt;&gt;&gt; l=1; m=[1]; n={&#39;a&#39;:0}\n",
    "# &gt;&gt;&gt; func(l, m, n)\n",
    "Ans=\n",
    "\n",
    "The result of the code will not directly produce any output. However, it will modify the values of l, m, and n due to the mutable nature of the list and dictionary objects.\n",
    "\n",
    "After executing the code:\n",
    "\n",
    "The value of l remains unchanged because integers are immutable.\n",
    "The list m is modified in-place. The first element of m is assigned the value 'x'.\n",
    "The dictionary n is also modified in-place. The value associated with the key 'a' is assigned the value 'y'.\n",
    "To see the modified values, you can print the variables l, m, and n after calling the func() function:\n",
    "\n",
    "\n",
    "print(l)  # Output: 1\n",
    "print(m)  # Output: ['x']\n",
    "print(n)  # Output: {'a': 'y'}\n",
    "So, the modified values will be l = 1, m = ['x'], and n = {'a': 'y'}.\n",
    "\n",
    "\n",
    "\n",
    "\n"
   ]
  },
  {
   "cell_type": "code",
   "execution_count": null,
   "metadata": {},
   "outputs": [],
   "source": []
  },
  {
   "cell_type": "code",
   "execution_count": null,
   "metadata": {},
   "outputs": [],
   "source": []
  },
  {
   "cell_type": "code",
   "execution_count": null,
   "metadata": {},
   "outputs": [],
   "source": []
  }
 ],
 "metadata": {
  "kernelspec": {
   "display_name": "Python 3",
   "language": "python",
   "name": "python3"
  },
  "language_info": {
   "codemirror_mode": {
    "name": "ipython",
    "version": 3
   },
   "file_extension": ".py",
   "mimetype": "text/x-python",
   "name": "python",
   "nbconvert_exporter": "python",
   "pygments_lexer": "ipython3",
   "version": "3.7.6"
  }
 },
 "nbformat": 4,
 "nbformat_minor": 4
}
