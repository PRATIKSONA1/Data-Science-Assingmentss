{
 "cells": [
  {
   "cell_type": "markdown",
   "metadata": {},
   "source": [
    "# Programming Assingment no.15"
   ]
  },
  {
   "cell_type": "code",
   "execution_count": null,
   "metadata": {},
   "outputs": [],
   "source": [
    "# Question 1:\n",
    "# Please write a program using generator to print the numbers which can be divisible by 5 and\n",
    "# 7 between 0 and n in comma separated form while n is input by console.\n",
    "# Example:\n",
    "# If the following n is given as input to the program:\n",
    "# 100\n",
    "# Then, the output of the program should be:\n",
    "# 0,35,70\n",
    "\n",
    "# Ans=\n",
    "\n",
    "def divisible_by_5_and_7(n):\n",
    "    for num in range(n+1):\n",
    "        if num % 5 == 0 and num % 7 == 0:\n",
    "            yield num\n",
    "\n",
    "# Example usage:\n",
    "n = int(input(\"Enter a number: \"))\n",
    "\n",
    "result = divisible_by_5_and_7(n)\n",
    "output = \",\".join(str(num) for num in result)\n",
    "\n",
    "print(\"Output:\", output)"
   ]
  },
  {
   "cell_type": "code",
   "execution_count": null,
   "metadata": {},
   "outputs": [],
   "source": [
    "# Question 2:\n",
    "# Please write a program using generator to print the even numbers between 0 and n in comma\n",
    "# separated form while n is input by console.\n",
    "# Example:\n",
    "# If the following n is given as input to the program:\n",
    "# 10\n",
    "# Then, the output of the program should be:\n",
    "# 0,2,4,6,8,10\n",
    "\n",
    "# Ans=\n",
    "\n",
    "def even_numbers(n):\n",
    "    for num in range(n+1):\n",
    "        if num % 2 == 0:\n",
    "            yield num\n",
    "\n",
    "# Example usage:\n",
    "n = int(input(\"Enter a number: \"))\n",
    "\n",
    "result = even_numbers(n)\n",
    "output = \",\".join(str(num) for num in result)\n",
    "\n",
    "print(\"Output:\", output)"
   ]
  },
  {
   "cell_type": "code",
   "execution_count": null,
   "metadata": {},
   "outputs": [],
   "source": [
    "# Question 3:\n",
    "# The Fibonacci Sequence is computed based on the following formula:\n",
    "# f(n)=0 if n=0\n",
    "# f(n)=1 if n=1\n",
    "# f(n)=f(n-1)+f(n-2) if n&gt;1\n",
    "# Please write a program using list comprehension to print the Fibonacci Sequence in comma\n",
    "# separated form with a given n input by console.\n",
    "# Example:\n",
    "# If the following n is given as input to the program:\n",
    "# 7\n",
    "\n",
    "# Then, the output of the program should be:\n",
    "# 0,1,1,2,3,5,8,13\n",
    "\n",
    "# Ans=\n",
    "\n",
    "def fibonacci_sequence(n):\n",
    "    sequence = [0, 1]  # Initialize the sequence with the first two numbers\n",
    "\n",
    "    # Use list comprehension to generate the Fibonacci sequence\n",
    "    sequence = [sequence[i-1] + sequence[i-2] for i in range(2, n+1)]\n",
    "\n",
    "    return sequence\n",
    "\n",
    "# Example usage:\n",
    "n = int(input(\"Enter a number: \"))\n",
    "\n",
    "result = fibonacci_sequence(n)\n",
    "output = \",\".join(str(num) for num in result)\n",
    "\n",
    "print(\"Output:\", output)"
   ]
  },
  {
   "cell_type": "code",
   "execution_count": null,
   "metadata": {},
   "outputs": [],
   "source": [
    "# Question 4:\n",
    "# Assuming that we have some email addresses in the &quot;username@companyname.com&quot; format,\n",
    "# please write program to print the user name of a given email address. Both user names and\n",
    "# company names are composed of letters only.\n",
    "# Example:\n",
    "# If the following email address is given as input to the program:\n",
    "# john@google.com\n",
    "# Then, the output of the program should be:\n",
    "# john\n",
    "\n",
    "# Ans\n",
    "\n",
    "def extract_username(email):\n",
    "    username = email.split(\"@\")[0]\n",
    "    return username\n",
    "\n",
    "# Example usage:\n",
    "email = input(\"Enter an email address: \")\n",
    "\n",
    "username = extract_username(email)\n",
    "print(\"Username:\", username)"
   ]
  },
  {
   "cell_type": "code",
   "execution_count": null,
   "metadata": {},
   "outputs": [],
   "source": [
    "# Question 5:\n",
    "# Define a class named Shape and its subclass Square. The Square class has an init function\n",
    "# which takes a length as argument. Both classes have a area function which can print the area\n",
    "# of the shape where Shape&#39;s area is 0 by default.\n",
    "\n",
    "# Ans=\n",
    "\n",
    "class Shape:\n",
    "    def __init__(self):\n",
    "        self.area = 0\n",
    "\n",
    "    def calculate_area(self):\n",
    "        print(\"Area of the shape:\", self.area)\n",
    "\n",
    "\n",
    "class Square(Shape):\n",
    "    def __init__(self, length):\n",
    "        super().__init__()\n",
    "        self.length = length\n",
    "\n",
    "    def calculate_area(self):\n",
    "        self.area = self.length ** 2\n",
    "        print(\"Area of the square:\", self.area)\n",
    "\n",
    "\n",
    "# Example usage:\n",
    "shape = Shape()\n",
    "shape.calculate_area()  # Output: Area of the shape: 0\n",
    "\n",
    "square = Square(5)\n",
    "square.calculate_area()  # Output: Area of the square: 25\n"
   ]
  },
  {
   "cell_type": "code",
   "execution_count": null,
   "metadata": {},
   "outputs": [],
   "source": []
  },
  {
   "cell_type": "code",
   "execution_count": null,
   "metadata": {},
   "outputs": [],
   "source": []
  },
  {
   "cell_type": "code",
   "execution_count": null,
   "metadata": {},
   "outputs": [],
   "source": []
  },
  {
   "cell_type": "code",
   "execution_count": null,
   "metadata": {},
   "outputs": [],
   "source": []
  }
 ],
 "metadata": {
  "kernelspec": {
   "display_name": "Python 3",
   "language": "python",
   "name": "python3"
  },
  "language_info": {
   "codemirror_mode": {
    "name": "ipython",
    "version": 3
   },
   "file_extension": ".py",
   "mimetype": "text/x-python",
   "name": "python",
   "nbconvert_exporter": "python",
   "pygments_lexer": "ipython3",
   "version": "3.7.6"
  }
 },
 "nbformat": 4,
 "nbformat_minor": 4
}
