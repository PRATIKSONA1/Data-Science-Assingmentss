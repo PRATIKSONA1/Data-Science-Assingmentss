{
 "cells": [
  {
   "cell_type": "markdown",
   "metadata": {},
   "source": [
    "# Programming Assingment no.12"
   ]
  },
  {
   "cell_type": "code",
   "execution_count": null,
   "metadata": {},
   "outputs": [],
   "source": [
    "# 1. Write a Python program to Extract Unique values dictionary values?\n",
    "# Ans=\n",
    "def extract_unique_values(dictionary):\n",
    "    unique_values = set()\n",
    "\n",
    "    # Iterate over each value in the dictionary\n",
    "    for value in dictionary.values():\n",
    "        # If the value is iterable (e.g., list, set), add its elements to the unique_values set\n",
    "        if isinstance(value, (list, set)):\n",
    "            unique_values.update(value)\n",
    "        else:\n",
    "            unique_values.add(value)\n",
    "\n",
    "    return unique_values\n",
    "\n",
    "# Example usage:\n",
    "my_dict = {\n",
    "    'key1': 'value1',\n",
    "    'key2': ['value2', 'value3'],\n",
    "    'key3': 'value4',\n",
    "    'key4': ['value5', 'value6']\n",
    "}\n",
    "\n",
    "unique_values = extract_unique_values(my_dict)\n",
    "print(\"Unique values:\", unique_values)"
   ]
  },
  {
   "cell_type": "code",
   "execution_count": null,
   "metadata": {},
   "outputs": [],
   "source": [
    "# 2. Write a Python program to find the sum of all items in a dictionary?\n",
    "# Ans=\n",
    "def sum_of_dictionary_items(dictionary):\n",
    "    total_sum = 0\n",
    "\n",
    "    # Iterate over each value in the dictionary\n",
    "    for value in dictionary.values():\n",
    "        # Check if the value is a number\n",
    "        if isinstance(value, (int, float)):\n",
    "            total_sum += value\n",
    "\n",
    "    return total_sum\n",
    "\n",
    "# Example usage:\n",
    "my_dict = {\n",
    "    'item1': 10,\n",
    "    'item2': 5.5,\n",
    "    'item3': 7,\n",
    "    'item4': 'not a number',\n",
    "    'item5': 3.2\n",
    "}\n",
    "\n",
    "items_sum = sum_of_dictionary_items(my_dict)\n",
    "print(\"Sum of dictionary items:\", items_sum)"
   ]
  },
  {
   "cell_type": "code",
   "execution_count": null,
   "metadata": {},
   "outputs": [],
   "source": [
    "# 3. Write a Python program to Merging two Dictionaries?\n",
    "# Ans=\n",
    "def merge_dictionaries(dict1, dict2):\n",
    "    merged_dict = {**dict1, **dict2}\n",
    "    return merged_dict\n",
    "\n",
    "# Example usage:\n",
    "dict1 = {'a': 1, 'b': 2}\n",
    "dict2 = {'c': 3, 'd': 4}\n",
    "\n",
    "merged_dict = merge_dictionaries(dict1, dict2)\n",
    "print(\"Merged dictionary:\", merged_dict)"
   ]
  },
  {
   "cell_type": "code",
   "execution_count": null,
   "metadata": {},
   "outputs": [],
   "source": [
    "# 4. Write a Python program to convert key-values list to flat dictionary?\n",
    "# Ans=\n",
    "def convert_to_flat_dictionary(key_value_list):\n",
    "    flat_dict = {}\n",
    "\n",
    "    for key, value in key_value_list:\n",
    "        flat_dict[key] = value\n",
    "\n",
    "    return flat_dict\n",
    "\n",
    "# Example usage:\n",
    "key_value_list = [('a', 1), ('b', 2), ('c', 3), ('d', 4)]\n",
    "\n",
    "flat_dictionary = convert_to_flat_dictionary(key_value_list)\n",
    "print(\"Flat dictionary:\", flat_dictionary)"
   ]
  },
  {
   "cell_type": "code",
   "execution_count": null,
   "metadata": {},
   "outputs": [],
   "source": [
    "# 5. Write a Python program to insertion at the beginning in OrderedDict?\n",
    "# Ans=\n",
    "from collections import OrderedDict\n",
    "\n",
    "def insert_at_beginning(ordered_dict, key, value):\n",
    "    ordered_dict.update({key: value})\n",
    "    ordered_dict.move_to_end(key, last=False)\n",
    "\n",
    "# Example usage:\n",
    "my_ordered_dict = OrderedDict([('a', 1), ('b', 2), ('c', 3)])\n",
    "\n",
    "print(\"Original OrderedDict:\", my_ordered_dict)\n",
    "\n",
    "insert_at_beginning(my_ordered_dict, 'x', 0)\n",
    "print(\"Updated OrderedDict:\", my_ordered_dict)"
   ]
  },
  {
   "cell_type": "code",
   "execution_count": null,
   "metadata": {},
   "outputs": [],
   "source": [
    "# 6. Write a Python program to check order of character in string using OrderedDict()?\n",
    "# Ans=\n",
    "from collections import OrderedDict\n",
    "\n",
    "def check_character_order(string):\n",
    "    ordered_dict = OrderedDict()\n",
    "\n",
    "    # Iterate over each character in the string\n",
    "    for char in string:\n",
    "        # Check if the character is already present in the OrderedDict\n",
    "        if char in ordered_dict:\n",
    "            # If the character is already present, move it to the end\n",
    "            ordered_dict.move_to_end(char)\n",
    "        else:\n",
    "            # If the character is not present, add it to the OrderedDict\n",
    "            ordered_dict[char] = None\n",
    "\n",
    "    # Check if the characters in the OrderedDict are in the same order as the original string\n",
    "    return ''.join(ordered_dict.keys()) == string\n",
    "\n",
    "# Example usage:\n",
    "input_string = \"hello\"\n",
    "\n",
    "order_check = check_character_order(input_string)\n",
    "if order_check:\n",
    "    print(\"The characters in the string are in order.\")\n",
    "else:\n",
    "    print(\"The characters in the string are not in order.\")"
   ]
  },
  {
   "cell_type": "code",
   "execution_count": null,
   "metadata": {},
   "outputs": [],
   "source": [
    "# 7. Write a Python program to sort Python Dictionaries by Key or Value?\n",
    "Ans=\n",
    "def sort_dictionary(dictionary, by_key=True):\n",
    "    if by_key:\n",
    "        sorted_dict = dict(sorted(dictionary.items(), key=lambda item: item[0]))\n",
    "    else:\n",
    "        sorted_dict = dict(sorted(dictionary.items(), key=lambda item: item[1]))\n",
    "\n",
    "    return sorted_dict\n",
    "\n",
    "# Example usage:\n",
    "my_dict = {'b': 2, 'a': 1, 'c': 3}\n",
    "\n",
    "sorted_by_key = sort_dictionary(my_dict, by_key=True)\n",
    "print(\"Sorted by key:\", sorted_by_key)\n",
    "\n",
    "sorted_by_value = sort_dictionary(my_dict, by_key=False)\n",
    "print(\"Sorted by value:\", sorted_by_value)"
   ]
  },
  {
   "cell_type": "code",
   "execution_count": null,
   "metadata": {},
   "outputs": [],
   "source": []
  },
  {
   "cell_type": "code",
   "execution_count": null,
   "metadata": {},
   "outputs": [],
   "source": []
  },
  {
   "cell_type": "code",
   "execution_count": null,
   "metadata": {},
   "outputs": [],
   "source": []
  },
  {
   "cell_type": "code",
   "execution_count": null,
   "metadata": {},
   "outputs": [],
   "source": []
  },
  {
   "cell_type": "code",
   "execution_count": null,
   "metadata": {},
   "outputs": [],
   "source": []
  },
  {
   "cell_type": "code",
   "execution_count": null,
   "metadata": {},
   "outputs": [],
   "source": []
  },
  {
   "cell_type": "code",
   "execution_count": null,
   "metadata": {},
   "outputs": [],
   "source": []
  },
  {
   "cell_type": "code",
   "execution_count": null,
   "metadata": {},
   "outputs": [],
   "source": []
  },
  {
   "cell_type": "code",
   "execution_count": null,
   "metadata": {},
   "outputs": [],
   "source": []
  },
  {
   "cell_type": "code",
   "execution_count": null,
   "metadata": {},
   "outputs": [],
   "source": []
  }
 ],
 "metadata": {
  "kernelspec": {
   "display_name": "Python 3",
   "language": "python",
   "name": "python3"
  },
  "language_info": {
   "codemirror_mode": {
    "name": "ipython",
    "version": 3
   },
   "file_extension": ".py",
   "mimetype": "text/x-python",
   "name": "python",
   "nbconvert_exporter": "python",
   "pygments_lexer": "ipython3",
   "version": "3.7.6"
  }
 },
 "nbformat": 4,
 "nbformat_minor": 4
}
