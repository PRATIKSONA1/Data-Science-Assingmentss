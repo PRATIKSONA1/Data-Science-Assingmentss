{
 "cells": [
  {
   "cell_type": "markdown",
   "metadata": {},
   "source": [
    "# Programming Assingemnt no.16"
   ]
  },
  {
   "cell_type": "code",
   "execution_count": 1,
   "metadata": {},
   "outputs": [
    {
     "name": "stdout",
     "output_type": "stream",
     "text": [
      "in... in... incredible?\n",
      "en... en... enthusiastic?\n",
      "ou... ou... outstanding?\n"
     ]
    }
   ],
   "source": [
    "# Question1. Write a function that stutters a word as if someone is struggling to read it. The\n",
    "# first two letters are repeated twice with an ellipsis ... and space after each, and then the\n",
    "# word is pronounced with a question mark ?.\n",
    "# Examples\n",
    "# stutter(&quot;incredible&quot;) ➞ &quot;in... in... incredible?&quot;\n",
    "# stutter(&quot;enthusiastic&quot;) ➞ &quot;en... en... enthusiastic?&quot;\n",
    "# stutter(&quot;outstanding&quot;) ➞ &quot;ou... ou... outstanding?&quot;\n",
    "\n",
    "# Hint :- Assume all input is in lower case and at least two characters long.\n",
    "\n",
    "# Ans=\n",
    "\n",
    "def stutter(word):\n",
    "    stuttered_word = word[:2] + \"... \" + word[:2] + \"... \" + word + \"?\"\n",
    "    return stuttered_word\n",
    "\n",
    "# Example usage:\n",
    "print(stutter(\"incredible\"))      # Output: in... in... incredible?\n",
    "print(stutter(\"enthusiastic\"))    # Output: en... en... enthusiastic?\n",
    "print(stutter(\"outstanding\"))     # Output: ou... ou... outstanding?"
   ]
  },
  {
   "cell_type": "code",
   "execution_count": 7,
   "metadata": {},
   "outputs": [
    {
     "name": "stdout",
     "output_type": "stream",
     "text": [
      "57.3\n",
      "1145.9\n",
      "2864.8\n"
     ]
    }
   ],
   "source": [
    "# Question 2.Create a function that takes an angle in radians and returns the corresponding\n",
    "# angle in degrees rounded to one decimal place.\n",
    "# Examples\n",
    "# radians_to_degrees(1) ➞ 57.3\n",
    "# radians_to_degrees(20) ➞ 1145.9\n",
    "# radians_to_degrees(50) ➞ 2864.8\n",
    "\n",
    "# Ans=\n",
    "import math\n",
    "\n",
    "def radians_to_degrees(angle):\n",
    "    degrees = math.degrees(angle)\n",
    "    rounded_degrees = round(degrees, 1)\n",
    "    return rounded_degrees\n",
    "\n",
    "# Example usage:\n",
    "print(radians_to_degrees(1))    # Output: 57.3\n",
    "print(radians_to_degrees(20))   # Output: 1145.9\n",
    "print(radians_to_degrees(50))   # Output: 2864.8"
   ]
  },
  {
   "cell_type": "code",
   "execution_count": 2,
   "metadata": {},
   "outputs": [
    {
     "name": "stdout",
     "output_type": "stream",
     "text": [
      "True\n",
      "False\n",
      "True\n"
     ]
    }
   ],
   "source": [
    "# Question 3. In this challenge, establish if a given integer num is a Curzon number. If 1 plus\n",
    "# 2 elevated to num is exactly divisible by 1 plus 2 multiplied by num, then num is a Curzon\n",
    "# number.\n",
    "# Given a non-negative integer num, implement a function that returns True if num is a Curzon\n",
    "# number, or False otherwise.\n",
    "# Examples\n",
    "# is_curzon(5) ➞ True\n",
    "# # 2 ** 5 + 1 = 33\n",
    "# # 2 * 5 + 1 = 11\n",
    "# # 33 is a multiple of 11\n",
    "# is_curzon(10) ➞ False\n",
    "# # 2 ** 10 + 1 = 1025\n",
    "# # 2 * 10 + 1 = 21\n",
    "# # 1025 is not a multiple of 21\n",
    "# is_curzon(14) ➞ True\n",
    "# # 2 ** 14 + 1 = 16385\n",
    "# # 2 * 14 + 1 = 29\n",
    "# # 16385 is a multiple of 29\n",
    "\n",
    "# Ans=\n",
    "\n",
    "def is_curzon(num):\n",
    "    numerator = 2 ** num + 1\n",
    "    denominator = 2 * num + 1\n",
    "    return numerator % denominator == 0\n",
    "\n",
    "# Example usage:\n",
    "print(is_curzon(5))   # Output: True\n",
    "print(is_curzon(10))  # Output: False\n",
    "print(is_curzon(14))  # Output: True"
   ]
  },
  {
   "cell_type": "code",
   "execution_count": 6,
   "metadata": {},
   "outputs": [
    {
     "name": "stdout",
     "output_type": "stream",
     "text": [
      "2.6\n",
      "10.4\n",
      "23.4\n"
     ]
    },
    {
     "data": {
      "text/plain": [
       "23.4"
      ]
     },
     "execution_count": 6,
     "metadata": {},
     "output_type": "execute_result"
    }
   ],
   "source": [
    "# Question 4.Given the side length x find the area of a hexagon.\n",
    "\n",
    "# Examples\n",
    "# area_of_hexagon(1) ➞ 2.6\n",
    "# area_of_hexagon(2) ➞ 10.4\n",
    "# area_of_hexagon(3) ➞ 23.4\n",
    "\n",
    "# Ans=\n",
    "'''To find the area of a regular hexagon, you can use the following formula:\n",
    "\n",
    "Area = (3 * sqrt(3) * x^2) / 2\n",
    "\n",
    "where x is the length of a side of the hexagon.\n",
    "\n",
    "Here's a function that calculates the area of a hexagon given the side length:'''\n",
    "\n",
    "\n",
    "import math\n",
    "\n",
    "def area_of_hexagon(x):\n",
    "    area = (3 * math.sqrt(3) * x ** 2) / 2\n",
    "    return round(area, 1)\n",
    "\n",
    "# Example usage:\n",
    "print(area_of_hexagon(1))   # Output: 2.6\n",
    "print(area_of_hexagon(2))   # Output: 10.4\n",
    "print(area_of_hexagon(3))   # Output: 23.4\n",
    "'''The area_of_hexagon function takes the side length x as input. It uses the formula mentioned earlier to calculate the area of the hexagon. The math.sqrt function from the math module is used to calculate the square root. The resulting area is then rounded to one decimal place using the round function.\n",
    "\n",
    "In the example usage, we call the area_of_hexagon function with different side lengths and print the results.\n",
    "\n",
    "The output will be:\n",
    "'''\n",
    "\n",
    "2.6\n",
    "10.4\n",
    "23.4\n",
    "\n",
    "\n"
   ]
  },
  {
   "cell_type": "code",
   "execution_count": 3,
   "metadata": {},
   "outputs": [
    {
     "name": "stdout",
     "output_type": "stream",
     "text": [
      "1\n",
      "101\n",
      "1010\n"
     ]
    }
   ],
   "source": [
    "# Question 5. Create a function that returns a base-2 (binary) representation of a base-10\n",
    "# (decimal) string number. To convert is simple: ((2) means base-2 and (10) means base-10)\n",
    "# 010101001(2) = 1 + 8 + 32 + 128.\n",
    "# Going from right to left, the value of the most right bit is 1, now from that every bit to the left\n",
    "# will be x2 the value, value of an 8 bit binary numbers are (256, 128, 64, 32, 16, 8, 4, 2, 1).\n",
    "# Examples\n",
    "# binary(1) ➞ &quot;1&quot;\n",
    "# # 1*1 = 1\n",
    "# binary(5) ➞ &quot;101&quot;\n",
    "# # 1*1 + 1*4 = 5\n",
    "# binary(10) ➞ &quot;1010&quot;\n",
    "# # 1*2 + 1*8 = 10\n",
    "\n",
    "# Ans=\n",
    "\n",
    "def binary(decimal):\n",
    "    if decimal == 0:\n",
    "        return '0'\n",
    "    \n",
    "    binary_digits = []\n",
    "    \n",
    "    while decimal > 0:\n",
    "        binary_digits.append(str(decimal % 2))\n",
    "        decimal //= 2\n",
    "    \n",
    "    binary_digits.reverse()\n",
    "    binary_string = ''.join(binary_digits)\n",
    "    \n",
    "    return binary_string\n",
    "\n",
    "# Example usage:\n",
    "print(binary(1))    # Output: \"1\"\n",
    "print(binary(5))    # Output: \"101\"\n",
    "print(binary(10))   # Output: \"1010\""
   ]
  },
  {
   "cell_type": "code",
   "execution_count": null,
   "metadata": {},
   "outputs": [],
   "source": []
  },
  {
   "cell_type": "code",
   "execution_count": null,
   "metadata": {},
   "outputs": [],
   "source": []
  },
  {
   "cell_type": "code",
   "execution_count": null,
   "metadata": {},
   "outputs": [],
   "source": []
  },
  {
   "cell_type": "code",
   "execution_count": null,
   "metadata": {},
   "outputs": [],
   "source": []
  }
 ],
 "metadata": {
  "kernelspec": {
   "display_name": "Python 3",
   "language": "python",
   "name": "python3"
  },
  "language_info": {
   "codemirror_mode": {
    "name": "ipython",
    "version": 3
   },
   "file_extension": ".py",
   "mimetype": "text/x-python",
   "name": "python",
   "nbconvert_exporter": "python",
   "pygments_lexer": "ipython3",
   "version": "3.7.6"
  }
 },
 "nbformat": 4,
 "nbformat_minor": 4
}
