{
 "cells": [
  {
   "cell_type": "markdown",
   "metadata": {},
   "source": [
    "# Assingment no.6 "
   ]
  },
  {
   "cell_type": "code",
   "execution_count": null,
   "metadata": {},
   "outputs": [],
   "source": [
    "# 1. What are escape characters, and how do you use them?\n",
    "Ans=\n",
    "\n",
    "Escape characters are special characters that are used to represent certain characters in a string \n",
    "that cannot be directly entered as a character or may cause issues when trying to represent them \n",
    "directly. Escape characters start with a backslash (\\) followed by a character or a sequence of \n",
    "characters. For example, to include a newline character in a string, we can use the escape character sequence \\n.\n",
    "\n",
    "Here are some common escape characters and their meanings:\n",
    "\n",
    "\\n: newline\n",
    "\\t: tab\n",
    "\\': single quote\n",
    "\\\": double quote\n",
    "\\\\: backslash\n",
    "To use an escape character in a string, we can simply include the escape character sequence in \n",
    "the string. For example, to include a newline character in a string, we can use the escape character\n",
    "sequence \\n, like this:\n",
    "    examples=\n",
    "    print(\"Hello\\nworld!\")\n",
    "# output   Hello\n",
    "          world!\n",
    "    \n",
    "    print(\"Name:\\tJohn\")\n",
    "output    Name:   John\n",
    "    \n",
    "    \n",
    "\n"
   ]
  },
  {
   "cell_type": "code",
   "execution_count": null,
   "metadata": {},
   "outputs": [],
   "source": [
    "# 2. What do the escape characters n and t stand for?\n",
    "Ans=\n",
    " The escape characters n and t stand for\n",
    "    \"n\"  stands for newline\n",
    "    \"t\" stands for tab"
   ]
  },
  {
   "cell_type": "code",
   "execution_count": null,
   "metadata": {},
   "outputs": [],
   "source": [
    "# 3. What is the way to include backslash characters in a string?\n",
    "Ans=\n",
    "To include a backslash character in a string, you can use a double backslash \"\\\". \n",
    "\\The first backslash is the escape character, which indicates that the second backslash \n",
    "is a literal character and should be included in the string. For example, to create a string\n",
    "that contains the backslash character, you can write:\n",
    "\n",
    "\n",
    "my_string = \"This string contains a backslash: \\\\\"\n",
    "\n",
    "This will produce the following output:\n",
    "\n",
    "This string contains a backslash: \\"
   ]
  },
  {
   "cell_type": "code",
   "execution_count": null,
   "metadata": {},
   "outputs": [],
   "source": [
    "# 4. The string &quot;Howl&#39;s Moving Castle&quot; is a correct value. Why isn&#39;t the single quote character in the\n",
    "# word Howl&#39;s not escaped a problem?\n",
    "Ans=\n",
    "The single quote character in the word \"Howl's\" is not a problem because the string is enclosed in double quotes.\n",
    "In Python, a string can be enclosed in either single quotes or double quotes. If a string is enclosed in single \n",
    "quotes, then any single quote characters within the string must be escaped with a backslash. Similarly, if a string\n",
    "is enclosed in double quotes, then any double quote characters within the string must be escaped with a backslash. \n",
    "Since the string \"Howl's Moving Castle\" is enclosed in double quotes, the single quote character within the string\n",
    "does not need to be escaped."
   ]
  },
  {
   "cell_type": "code",
   "execution_count": null,
   "metadata": {},
   "outputs": [],
   "source": [
    "# 5. How do you write a string of newlines if you don&#39;t want to use the n character?\n",
    "Ans=\n",
    "You can use triple quotes to create a multi-line string in Python, like this:\n",
    "\n",
    "\n",
    "string_with_newlines = \"\"\"This string\n",
    "has multiple\n",
    "lines\"\"\"\n",
    "In the above example, the string is enclosed in triple quotes (\"\"\") and the newlines are\n",
    "created by pressing the enter key. The resulting string will contain the newline characters\n",
    "as part of the string. You can also use single quotes (''') instead of double quotes.\n",
    "\n",
    "\n",
    "\n",
    "\n"
   ]
  },
  {
   "cell_type": "code",
   "execution_count": null,
   "metadata": {},
   "outputs": [],
   "source": [
    "# 6. What are the values of the given expressions?\n",
    "\"Hello, world!&\"[1]\n",
    "\"Hello, world!\"[0:5]\n",
    "\"Hello, world!\"[:5]\n",
    "\"Hello, world!\"[3:]\n",
    "Ans=\n",
    "\n",
    "The values of the given expressions are:\n",
    "\n",
    "'e'\n",
    "'Hello'\n",
    "'Hello'\n",
    "'lo, world!'"
   ]
  },
  {
   "cell_type": "code",
   "execution_count": null,
   "metadata": {},
   "outputs": [],
   "source": [
    "# 7. What are the values of the following expressions?\n",
    "&#39;Hello&#39;.upper()\n",
    "&#39;Hello&#39;.upper().isupper()\n",
    "&#39;Hello&#39;.upper().lower()\n",
    "Ans=\n",
    "The values of the given expressions are:\n",
    "\n",
    "'HELLO'\n",
    "True\n",
    "'hello'"
   ]
  },
  {
   "cell_type": "code",
   "execution_count": null,
   "metadata": {},
   "outputs": [],
   "source": [
    "# 8. What are the values of the following expressions?\n",
    "&#39;Remember, remember, the fifth of July.&#39;.split()\n",
    "&#39;-&#39;.join(&#39;There can only one.&#39;.split())\n",
    "Ans=\n",
    "The values of the following expressions are:\n",
    "\n",
    "'Remember, remember, the fifth of July.'.split(): ['Remember,', 'remember,', 'the', 'fifth', 'of', 'July.']\n",
    "'-'.join('There can be only one.'.split()): 'There-can-be-only-one.'\n",
    "    \n",
    "    "
   ]
  },
  {
   "cell_type": "code",
   "execution_count": null,
   "metadata": {},
   "outputs": [],
   "source": [
    "# 9. What are the methods for right-justifying, left-justifying, and centering a string?\n",
    "Ans=\n",
    "\n",
    "The methods for right-justifying, left-justifying, and centering a string in Python are:\n",
    "\n",
    "rjust(): This method right-justifies the string and pads it with a specified character (or whitespace) on the left to fill the given width.\n",
    "ljust(): This method left-justifies the string and pads it with a specified character (or whitespace) on the right to fill the given width.\n",
    "center(): This method centers the string and pads it with a specified character (or whitespace) on both sides to fill the given width."
   ]
  },
  {
   "cell_type": "code",
   "execution_count": null,
   "metadata": {},
   "outputs": [],
   "source": [
    "# 10. What is the best way to remove whitespace characters from the start or end?\n",
    "Ans=\n",
    "\n",
    "The best way to remove whitespace characters from the start or end of a string is to use the strip() method.\n",
    "The strip() method removes all whitespace characters (spaces, tabs, and newlines) from the beginning and end \n",
    "of the string.\n",
    "\n",
    "For example:\n",
    "\n",
    "\n",
    "my_string = \"   Hello, World!   \"\n",
    "print(my_string.strip())\n",
    "\n",
    "Output:\n",
    "\n",
    "\"Hello, World!\""
   ]
  },
  {
   "cell_type": "code",
   "execution_count": null,
   "metadata": {},
   "outputs": [],
   "source": [
    "#"
   ]
  },
  {
   "cell_type": "code",
   "execution_count": null,
   "metadata": {},
   "outputs": [],
   "source": []
  },
  {
   "cell_type": "code",
   "execution_count": null,
   "metadata": {},
   "outputs": [],
   "source": []
  },
  {
   "cell_type": "code",
   "execution_count": null,
   "metadata": {},
   "outputs": [],
   "source": []
  }
 ],
 "metadata": {
  "kernelspec": {
   "display_name": "Python 3",
   "language": "python",
   "name": "python3"
  },
  "language_info": {
   "codemirror_mode": {
    "name": "ipython",
    "version": 3
   },
   "file_extension": ".py",
   "mimetype": "text/x-python",
   "name": "python",
   "nbconvert_exporter": "python",
   "pygments_lexer": "ipython3",
   "version": "3.7.6"
  }
 },
 "nbformat": 4,
 "nbformat_minor": 4
}
