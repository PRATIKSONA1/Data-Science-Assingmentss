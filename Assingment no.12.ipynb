{
 "cells": [
  {
   "cell_type": "markdown",
   "metadata": {},
   "source": [
    "# Assingment no.12"
   ]
  },
  {
   "cell_type": "code",
   "execution_count": null,
   "metadata": {},
   "outputs": [],
   "source": [
    "# 1. In what modes should the PdfFileReader() and PdfFileWriter() File objects will be opened?\n",
    "Ans=\n",
    "\n",
    "The PdfFileReader() and PdfFileWriter() File objects in PyPDF2 library should be opened in binary mode with 'rb' and 'wb+' modes, respectively.\n",
    "\n",
    "'rb': This mode is used for opening a PDF file in binary read mode.\n",
    "'wb+': This mode is used for opening a PDF file in binary write mode and also allows reading the file."
   ]
  },
  {
   "cell_type": "code",
   "execution_count": null,
   "metadata": {},
   "outputs": [],
   "source": [
    "# 2. From a PdfFileReader object, how do you get a Page object for page 5?\n",
    "Ans=\n",
    "\n",
    "You can get a Page object for page 5 from a PdfFileReader object by calling the getPage() method \n",
    "with the index of the page you want (remember that page numbers start at 0). Here's an example:\n",
    "from PyPDF2 import PdfFileReader\n",
    "\n",
    "# Open the PDF file in read-binary mode\n",
    "with open('example.pdf', 'rb') as file:\n",
    "    # Create a PdfFileReader object\n",
    "    pdf_reader = PdfFileReader(file)\n",
    "\n",
    "    # Get the Page object for page 5 (index 4)\n",
    "    page = pdf_reader.getPage(4)"
   ]
  },
  {
   "cell_type": "code",
   "execution_count": null,
   "metadata": {},
   "outputs": [],
   "source": [
    "# 3. What PdfFileReader variable stores the number of pages in the PDF document?\n",
    "Ans=\n",
    "\n",
    "The numPages variable of a PdfFileReader object stores the number of pages in the PDF document."
   ]
  },
  {
   "cell_type": "code",
   "execution_count": null,
   "metadata": {},
   "outputs": [],
   "source": [
    "# 4. If a PdfFileReader object’s PDF is encrypted with the password swordfish, what must you do\n",
    "# before you can obtain Page objects from it?\n",
    "Ans=\n",
    "If a PdfFileReader object's PDF is encrypted with the password 'swordfish', you need to use the decrypt() method to decrypt the PDF with the password before obtaining Page objects from it.\n",
    "\n",
    "Here's an example code snippet:\n",
    "\n"
   ]
  },
  {
   "cell_type": "code",
   "execution_count": null,
   "metadata": {},
   "outputs": [],
   "source": [
    "# 5. What methods do you use to rotate a page?\n",
    "Ans=\n",
    "To rotate a page in a PDF document using PyPDF2 module, you can use the rotateClockwise() and rotateCounterClockwise() methods of the PageObject class.\n",
    "\n",
    "rotateClockwise() rotates the page 90 degrees in the clockwise direction.\n",
    "rotateCounterClockwise() rotates the page 90 degrees in the counter-clockwise direction.\n",
    "Both methods do not modify the original page, but instead, return a new PageObject with the specified rotation applied.\n",
    "\n",
    "Here's an example code snippet to rotate page 1 in a PDF document by 90 degrees clockwise:\n",
    "import PyPDF2\n",
    "\n",
    "# Open the PDF file in read-binary mode\n",
    "pdf_file = open('example.pdf', 'rb')\n",
    "\n",
    "# Create a PdfFileReader object\n",
    "pdf_reader = PyPDF2.PdfFileReader(pdf_file)\n",
    "\n",
    "# Get the first page\n",
    "page = pdf_reader.getPage(0)\n",
    "\n",
    "# Rotate the page 90 degrees clockwise\n",
    "rotated_page = page.rotateClockwise(90)\n",
    "\n",
    "# Save the rotated page as a new PDF document\n",
    "pdf_writer = PyPDF2.PdfFileWriter()\n",
    "pdf_writer.addPage(rotated_page)\n",
    "with open('rotated_page.pdf', 'wb') as pdf_output:\n",
    "    pdf_writer.write(pdf_output)\n",
    "\n",
    "# Close the PDF file\n",
    "pdf_file.close()"
   ]
  },
  {
   "cell_type": "code",
   "execution_count": null,
   "metadata": {},
   "outputs": [],
   "source": [
    "#6. What is the difference between a Run object and a Paragraph object?\n",
    "Ans=\n",
    "\n",
    "In the context of Microsoft Word, a Paragraph object refers to a paragraph in a document, which is a unit of text that ends with a hard return and is formatted as a block of text. On the other hand, a Run object refers to a contiguous sequence of characters within a paragraph that has a consistent set of formatting properties, such as font style, size, and color.\n",
    "\n",
    "For example, in the sentence \"The quick brown fox jumps over the lazy dog\", the entire sentence is a paragraph object, while each word is a separate run object with its own formatting properties."
   ]
  },
  {
   "cell_type": "code",
   "execution_count": null,
   "metadata": {},
   "outputs": [],
   "source": [
    "# 7. How do you obtain a list of Paragraph objects for a Document object that’s stored in a variable\n",
    "# named doc?\n",
    "Ans=\n",
    "\n",
    "To obtain a list of Paragraph objects for a Document object stored in a variable named doc, you\n",
    "can use the doc.paragraphs attribute. This will return a list of Paragraph objects, which represent \n",
    "the paragraphs in the document. Here is an example:\n",
    "    from docx import Document\n",
    "\n",
    "# Load the document\n",
    "doc = Document('example.docx')\n",
    "\n",
    "# Get a list of all paragraphs in the document\n",
    "paragraphs = doc.paragraphs\n",
    "\n",
    "# Print the text of each paragraph\n",
    "for paragraph in paragraphs:\n",
    "    print(paragraph.text)\n",
    "    \n",
    "    \n",
    "    "
   ]
  },
  {
   "cell_type": "code",
   "execution_count": null,
   "metadata": {},
   "outputs": [],
   "source": [
    "# 8. What type of object has bold, underline, italic, strike, and outline variables?\n",
    "Ans=\n",
    "The docx.text.run.Run object has bold, underline, italic, strike, and outline variables."
   ]
  },
  {
   "cell_type": "code",
   "execution_count": null,
   "metadata": {},
   "outputs": [],
   "source": [
    "# 9. What is the difference between False, True, and None for the bold variable?\n",
    "Ans=\n",
    "\n",
    "In the context of a Python-docx program:\n",
    "\n",
    "True means the text in the corresponding run object will be displayed in bold.\n",
    "False means the text will not be displayed in bold.\n",
    "None means the bold setting for this run object will not be changed from its current setting."
   ]
  },
  {
   "cell_type": "code",
   "execution_count": null,
   "metadata": {},
   "outputs": [],
   "source": [
    "# 10. How do you create a Document object for a new Word document?\n",
    "Ans=\n",
    "\n",
    "To create a new Word document and obtain a Document object, you can use the Document() function from the docx module. Here's an example:\n",
    "\n",
    "\n",
    "from docx import Document\n",
    "\n",
    "# create a new blank document\n",
    "document = Document()\n",
    "\n",
    "# add content to the document\n",
    "document.add_heading('My Document')\n",
    "document.add_paragraph('This is a paragraph.')\n",
    "\n",
    "# save the document\n",
    "document.save('my_document.docx')"
   ]
  },
  {
   "cell_type": "code",
   "execution_count": null,
   "metadata": {},
   "outputs": [],
   "source": [
    "# 11. How do you add a paragraph with the text &#39;Hello, there!&#39; to a Document object stored in a\n",
    "# variable named doc?\n",
    "Ans=\n",
    "To add a paragraph with the text 'Hello, there!' to a Document object stored in a variable \n",
    "named doc, you can use the add_paragraph() method of the doc object as follows:\n",
    "    \n",
    "    doc.add_paragraph('Hello, there!')"
   ]
  },
  {
   "cell_type": "code",
   "execution_count": null,
   "metadata": {},
   "outputs": [],
   "source": [
    "# 12. What integers represent the levels of headings available in Word documents?\n",
    "Ans=\n",
    "In Word documents, the following integers represent the levels of headings:\n",
    "\n",
    "0: Not a heading\n",
    "1: Heading level 1\n",
    "2: Heading level 2\n",
    "3: Heading level 3\n",
    "4: Heading level 4\n",
    "5: Heading level 5\n",
    "6: Heading level 6\n",
    "7: Heading level 7\n",
    "8: Heading level 8\n",
    "9: Heading level 9"
   ]
  }
 ],
 "metadata": {
  "kernelspec": {
   "display_name": "Python 3",
   "language": "python",
   "name": "python3"
  },
  "language_info": {
   "codemirror_mode": {
    "name": "ipython",
    "version": 3
   },
   "file_extension": ".py",
   "mimetype": "text/x-python",
   "name": "python",
   "nbconvert_exporter": "python",
   "pygments_lexer": "ipython3",
   "version": "3.7.6"
  }
 },
 "nbformat": 4,
 "nbformat_minor": 4
}
