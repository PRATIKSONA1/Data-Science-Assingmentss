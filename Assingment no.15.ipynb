{
 "cells": [
  {
   "cell_type": "markdown",
   "metadata": {},
   "source": [
    "# Assingment no.15"
   ]
  },
  {
   "cell_type": "code",
   "execution_count": null,
   "metadata": {},
   "outputs": [],
   "source": [
    "# 1.How many seconds are in an hour? Use the interactive interpreter as a calculator and multiply the\n",
    "# number of seconds in a minute (60) by the number of minutes in an hour (also 60).\n",
    "Ans=\n",
    "\n",
    "\n",
    "To calculate the number of seconds in an hour, you can use the interactive interpreter as follows:\n",
    "\n",
    "\n",
    ">>> 60 * 60\n",
    "3600\n",
    "Therefore, there are 3600 seconds in an hour."
   ]
  },
  {
   "cell_type": "code",
   "execution_count": null,
   "metadata": {},
   "outputs": [],
   "source": [
    "# 2. Assign the result from the previous task (seconds in an hour) to a variable called\n",
    "# seconds_per_hour.\n",
    "Ans=\n",
    "\n",
    "Sure! Here's how you can assign the result from the previous task (seconds in an hour) to a variable called seconds_per_hour:\n",
    "\n",
    "\n",
    ">>> seconds_per_hour = 60 * 60\n",
    ">>> seconds_per_hour\n",
    "3600\n",
    "Now, the variable seconds_per_hour holds the value 3600."
   ]
  },
  {
   "cell_type": "code",
   "execution_count": null,
   "metadata": {},
   "outputs": [],
   "source": [
    "3. How many seconds do you think there are in a day? Make use of the variables seconds per hour\n",
    "and minutes per hour.\n",
    "Ans=\n",
    "To calculate the number of seconds in a day, we can use the variables seconds_per_hour and the number of hours in a day, which is 24.\n",
    "\n",
    "Therefore, the calculation would be:\n",
    "\n",
    "\n",
    "seconds_per_day = seconds_per_hour * 24\n",
    "Substituting the value of seconds_per_hour, we get:\n",
    "\n",
    "\n",
    ">>> seconds_per_day = 60 * 60 * 24\n",
    ">>> seconds_per_day\n",
    "86400\n",
    "Therefore, there are 86,400 seconds in a day."
   ]
  },
  {
   "cell_type": "code",
   "execution_count": null,
   "metadata": {},
   "outputs": [],
   "source": [
    "# 4. Calculate seconds per day again, but this time save the result in a variable called seconds_per_day\n",
    "Ans=\n",
    "Sure! Here's how you can calculate the number of seconds in a day and save the result in a variable called seconds_per_day:\n",
    "\n",
    "\n",
    ">>> seconds_per_day = seconds_per_hour * 24\n",
    ">>> seconds_per_day\n",
    "86400\n",
    "Now, the variable seconds_per_day holds the value 86400."
   ]
  },
  {
   "cell_type": "code",
   "execution_count": null,
   "metadata": {},
   "outputs": [],
   "source": [
    "# 5. Divide seconds_per_day by seconds_per_hour. Use floating-point (/) division.\n",
    "Ans=\n",
    "\n",
    "Sure! Here's how you can divide seconds_per_day by seconds_per_hour using floating-point division:\n",
    "\n",
    "\n",
    ">>> seconds_per_day / seconds_per_hour\n",
    "24.0\n",
    "When we divide seconds_per_day by seconds_per_hour, we get 24.0. This means that there are 24 hours in a day."
   ]
  },
  {
   "cell_type": "code",
   "execution_count": null,
   "metadata": {},
   "outputs": [],
   "source": [
    "# 6. Divide seconds_per_day by seconds_per_hour, using integer (//) division. Did this number agree\n",
    "# with the floating-point value from the previous question, aside from the final .0?\n",
    "Ans=\n",
    "Sure! Here's how you can divide seconds_per_day by seconds_per_hour using integer division:\n",
    "\n",
    "\n",
    ">>> seconds_per_day // seconds_per_hour\n",
    "24\n",
    "When we divide seconds_per_day by seconds_per_hour using integer division (//), we get 24. This number agrees with the floating-point value from the previous question, aside from the final .0.\n",
    "\n",
    "The difference is that the floating-point division (/) returns a float, whereas the integer division (//) returns an integer."
   ]
  },
  {
   "cell_type": "code",
   "execution_count": null,
   "metadata": {},
   "outputs": [],
   "source": [
    "# 7. Write a generator, genPrimes, that returns the sequence of prime numbers on successive calls to\n",
    "# its next() method: 2, 3, 5, 7, 11, ...\n",
    "Ans=\n",
    "Sure! Here's a possible implementation of the genPrimes generator using the Sieve of Eratosthenes algorithm:\n",
    "\n",
    "\n",
    "def genPrimes():\n",
    "    \"\"\"\n",
    "    Generate an infinite sequence of prime numbers.\n",
    "    \"\"\"\n",
    "    # Start with the first prime number\n",
    "    num = 2\n",
    "\n",
    "    # Keep track of the prime numbers found so far\n",
    "    primes = []\n",
    "\n",
    "    while True:\n",
    "        # Check if num is prime by testing if it is divisible by any of the primes found so far\n",
    "        is_prime = True\n",
    "        for prime in primes:\n",
    "            if num % prime == 0:\n",
    "                is_prime = False\n",
    "                break\n",
    "\n",
    "        # If num is prime, yield it and add it to the list of primes found so far\n",
    "        if is_prime:\n",
    "            primes.append(num)\n",
    "            yield num\n",
    "\n",
    "        # Move on to the next number\n",
    "        num += 1\n",
    "This generator function uses a list to keep track of the prime numbers found so far, and checks each new number if it is divisible by any of the previous prime numbers. If it is not divisible, then the new number is also prime, and is added to the list of primes found so far. The generator then yields the new prime number to the caller.\n",
    "\n",
    "You can use this generator to generate the sequence of prime numbers on successive calls to its next() method, like this:\n",
    "\n",
    "perl\n",
    "Copy code\n",
    "primes = genPrimes()\n",
    "print(next(primes))  # Output: 2\n",
    "print(next(primes))  # Output: 3\n",
    "print(next(primes))  # Output: 5\n",
    "print(next(primes))  # Output: 7\n",
    "print(next(primes))  # Output: 11\n",
    "# and so on..."
   ]
  }
 ],
 "metadata": {
  "kernelspec": {
   "display_name": "Python 3",
   "language": "python",
   "name": "python3"
  },
  "language_info": {
   "codemirror_mode": {
    "name": "ipython",
    "version": 3
   },
   "file_extension": ".py",
   "mimetype": "text/x-python",
   "name": "python",
   "nbconvert_exporter": "python",
   "pygments_lexer": "ipython3",
   "version": "3.7.6"
  }
 },
 "nbformat": 4,
 "nbformat_minor": 4
}
