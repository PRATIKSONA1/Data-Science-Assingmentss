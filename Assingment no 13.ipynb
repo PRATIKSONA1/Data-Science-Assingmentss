{
 "cells": [
  {
   "cell_type": "markdown",
   "metadata": {},
   "source": [
    "# Assingment no 13"
   ]
  },
  {
   "cell_type": "code",
   "execution_count": null,
   "metadata": {},
   "outputs": [],
   "source": [
    "# 1. What advantages do Excel spreadsheets have over CSV spreadsheets?\n",
    "Ans=\n",
    "Excel spreadsheets have several advantages over CSV spreadsheets:\n",
    "\n",
    "Formatting: Excel spreadsheets allow for formatting of data such as font type, size, and color, which can make data more visually appealing and easier to read.\n",
    "\n",
    "Formulas: Excel spreadsheets have the ability to perform calculations and manipulate data using built-in formulas and functions. This can be especially useful for large datasets.\n",
    "\n",
    "Graphical representation: Excel spreadsheets have the ability to create charts and graphs to visually represent data, which can be helpful in identifying patterns and trends.\n",
    "\n",
    "Multiple sheets: Excel spreadsheets can contain multiple sheets within the same file, making it easier to organize and manage large amounts of data.\n",
    "\n",
    "Protection: Excel spreadsheets can be password-protected to prevent unauthorized access or changes to the data. This can be important for sensitive data or financial information."
   ]
  },
  {
   "cell_type": "code",
   "execution_count": null,
   "metadata": {},
   "outputs": [],
   "source": [
    "#2.What do you pass to csv.reader() and csv.writer() to create reader and writer objects?\n",
    "Ans=\n",
    "To create reader and writer objects, you pass a File object obtained by calling the open() function in read mode for csv.reader() and in write mode for csv.writer(). For example:\n",
    "\n",
    "\n",
    "import csv\n",
    "\n",
    "# To create a reader object\n",
    "with open('example.csv', 'r') as file:\n",
    "    reader = csv.reader(file)\n",
    "\n",
    "# To create a writer object\n",
    "with open('example.csv', 'w', newline='') as file:\n",
    "    writer = csv.writer(file)"
   ]
  },
  {
   "cell_type": "code",
   "execution_count": null,
   "metadata": {},
   "outputs": [],
   "source": [
    "#3. What modes do File objects for reader and writer objects need to be opened in?\n",
    "Ans=\n",
    "\n",
    "For reader objects, the file mode should be set to 'r' or 'rt', and for writer objects, the file \n",
    "mode should be set to 'w' or 'wt'."
   ]
  },
  {
   "cell_type": "code",
   "execution_count": null,
   "metadata": {},
   "outputs": [],
   "source": [
    "#4. What method takes a list argument and writes it to a CSV file?\n",
    "Ans=\n",
    "\n",
    "The writerow() method of a csv.writer object takes a list argument and writes it to a CSV file as a row."
   ]
  },
  {
   "cell_type": "code",
   "execution_count": null,
   "metadata": {},
   "outputs": [],
   "source": [
    "#5. What do the keyword arguments delimiter and line terminator do?\n",
    "Ans=\n",
    "\n",
    "The keyword argument delimiter specifies the character used to separate fields in a CSV file. The default delimiter is a comma.\n",
    "\n",
    "The keyword argument lineterminator specifies the character used to terminate rows in a CSV file. The default line terminator is the newline character (\\n)."
   ]
  },
  {
   "cell_type": "code",
   "execution_count": null,
   "metadata": {},
   "outputs": [],
   "source": [
    "#6. What function takes a string of JSON data and returns a Python data structure?\n",
    "Ans=\n",
    "The json.loads() function takes a string of JSON data and returns a Python data structure."
   ]
  },
  {
   "cell_type": "code",
   "execution_count": null,
   "metadata": {},
   "outputs": [],
   "source": [
    "#7. What function takes a Python data structure and returns a string of JSON data?\n",
    "Ans=\n",
    "\n",
    "The json.dumps() function takes a Python data structure and returns a string of JSON data."
   ]
  },
  {
   "cell_type": "code",
   "execution_count": null,
   "metadata": {},
   "outputs": [],
   "source": []
  }
 ],
 "metadata": {
  "kernelspec": {
   "display_name": "Python 3",
   "language": "python",
   "name": "python3"
  },
  "language_info": {
   "codemirror_mode": {
    "name": "ipython",
    "version": 3
   },
   "file_extension": ".py",
   "mimetype": "text/x-python",
   "name": "python",
   "nbconvert_exporter": "python",
   "pygments_lexer": "ipython3",
   "version": "3.7.6"
  }
 },
 "nbformat": 4,
 "nbformat_minor": 4
}
