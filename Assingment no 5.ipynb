{
 "cells": [
  {
   "cell_type": "markdown",
   "metadata": {},
   "source": [
    "# Assingment no.5"
   ]
  },
  {
   "cell_type": "code",
   "execution_count": null,
   "metadata": {},
   "outputs": [],
   "source": [
    "# 1. What does an empty dictionary&#39;s code look like?\n",
    "Ans=\n",
    "An empty dictionary's code in Python looks like this: {}"
   ]
  },
  {
   "cell_type": "code",
   "execution_count": null,
   "metadata": {},
   "outputs": [],
   "source": [
    "#2. What is the value of a dictionary value with the key &#39;foo&#39; and the value 42?\n",
    "Ans=\n",
    "\n",
    "The value of a dictionary value with the key 'foo' and the value 42 would look like:\n",
    "\n",
    "\n",
    "{'foo': 42}\n",
    "In Python, a dictionary is created using curly braces {} with key-value pairs separated by a colon.\n",
    "In this case, the key is 'foo' and the value is 42."
   ]
  },
  {
   "cell_type": "code",
   "execution_count": null,
   "metadata": {},
   "outputs": [],
   "source": [
    "#3. What is the most significant distinction between a dictionary and a list?\n",
    "Ans=\n",
    "The most significant distinction between a dictionary and a list is the way they store and retrieve data.\n",
    "\n",
    "In a list, data is stored and retrieved by its position or index, which is an integer value. The first item in a list is at index 0, the second item is at index 1, and so on.\n",
    "\n",
    "In contrast, a dictionary stores and retrieves data using keys. Each key in a dictionary must be unique, and it is associated with a value. To retrieve a value from a dictionary, you specify its corresponding key.\n",
    "\n",
    "Another important difference is that lists are ordered, meaning that the position of each item in the list is fixed and predictable, while dictionaries are unordered, meaning that there is no guarantee about \n",
    "the order in which the key-value pairs are stored or retrieved."
   ]
  },
  {
   "cell_type": "code",
   "execution_count": null,
   "metadata": {},
   "outputs": [],
   "source": [
    "# 4. What happens if you try to access spam[&#39;foo&#39;] if spam is {&#39;bar&#39;: 100}?\n",
    "Ans=\n",
    "\n",
    "If you try to access spam['foo'] and spam is { 'bar': 100 }, you will get a KeyError because the key 'foo'\n",
    "does not exist in the dictionary.\n",
    "In Python, a KeyError is raised whenever you try to access a non-existent key in a dictionary."
   ]
  },
  {
   "cell_type": "code",
   "execution_count": null,
   "metadata": {},
   "outputs": [],
   "source": [
    "#5. If a dictionary is stored in spam, what is the difference between the expressions &#39;cat&#39; in spam and\n",
    "&#39;cat&#39; in spam.keys()?\n",
    "Ans=\n",
    "\n",
    "There is no difference between the expressions 'cat' in spam and 'cat' in spam.keys(). \n",
    "Both expressions check whether the string 'cat' is a key in the dictionary spam. \n",
    "In fact, spam.keys() returns a view object of the dictionary's keys, so checking for \n",
    "membership in spam is equivalent to checking for membership in spam.keys()."
   ]
  },
  {
   "cell_type": "code",
   "execution_count": null,
   "metadata": {},
   "outputs": [],
   "source": [
    "#6. If a dictionary is stored in spam, what is the difference between the expressions &#39;cat&#39; in spam and\n",
    "&#39;cat&#39; in spam.values()?\n",
    "Ans=\n",
    "\n",
    "The expression 'cat' in spam checks whether the string 'cat' is a key in the dictionary spam. If 'cat' is a key in spam, then the expression will evaluate to True.\n",
    "\n",
    "On the other hand, the expression 'cat' in spam.values() checks whether the string 'cat' is a value in the dictionary spam. If any of the values in spam are equal to 'cat', \n",
    "then the expression will evaluate to True."
   ]
  },
  {
   "cell_type": "code",
   "execution_count": null,
   "metadata": {},
   "outputs": [],
   "source": [
    "#7. What is a shortcut for the following code?\n",
    "if &#39;color&#39; not in spam:\n",
    "spam[&#39;color&#39;] = &#39;black&#39;\n",
    "\n",
    "Ans=\n",
    "     \n",
    "The following code:\n",
    "\n",
    "arduino\n",
    "Copy code\n",
    "spam.setdefault('color', 'black')\n",
    "is a shortcut for:\n",
    "\n",
    "arduino\n",
    "Copy code\n",
    "if 'color' not in spam:\n",
    "    spam['color'] = 'black'"
   ]
  },
  {
   "cell_type": "code",
   "execution_count": null,
   "metadata": {},
   "outputs": [],
   "source": [
    "#8. How do you &quot;pretty print&quot; dictionary values using which module and function?\n",
    "\n",
    "Ans=\n",
    "To pretty print dictionary values, we can use the pprint module in Python. Specifically, we can use the pprint() function from this module to print the dictionary values in a more readable and visually appealing format. Here's an example:\n",
    "\n",
    "\n",
    "import pprint\n",
    "\n",
    "my_dict = {'name': 'John', 'age': 30, 'city': 'New York'}\n",
    "\n",
    "pprint.pprint(my_dict)\n",
    "This will output the dictionary values in a more organized and indented format:\n",
    "\n",
    "\n",
    "{'age': 30, 'city': 'New York', 'name': 'John'}"
   ]
  },
  {
   "cell_type": "code",
   "execution_count": null,
   "metadata": {},
   "outputs": [],
   "source": []
  }
 ],
 "metadata": {
  "kernelspec": {
   "display_name": "Python 3",
   "language": "python",
   "name": "python3"
  },
  "language_info": {
   "codemirror_mode": {
    "name": "ipython",
    "version": 3
   },
   "file_extension": ".py",
   "mimetype": "text/x-python",
   "name": "python",
   "nbconvert_exporter": "python",
   "pygments_lexer": "ipython3",
   "version": "3.7.6"
  }
 },
 "nbformat": 4,
 "nbformat_minor": 4
}
