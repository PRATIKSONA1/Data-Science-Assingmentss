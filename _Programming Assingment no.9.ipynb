{
 "cells": [
  {
   "cell_type": "markdown",
   "metadata": {},
   "source": [
    "# Programming Assingment no.9"
   ]
  },
  {
   "cell_type": "code",
   "execution_count": null,
   "metadata": {},
   "outputs": [],
   "source": [
    "# 1. Write a Python program to check if the given number is a Disarium Number?\n",
    "# Ans=\n",
    "def is_disarium_number(number):\n",
    "    # Convert the number to a string to access individual digits\n",
    "    str_number = str(number)\n",
    "    length = len(str_number)\n",
    "    sum_of_digits = 0\n",
    "\n",
    "    # Iterate over each digit and calculate the sum of its position raised to the power of the digit\n",
    "    for i in range(length):\n",
    "        digit = int(str_number[i])\n",
    "        sum_of_digits += digit ** (i+1)\n",
    "\n",
    "    # Check if the sum of digits is equal to the original number\n",
    "    return sum_of_digits == number\n",
    "\n",
    "# Example usage\n",
    "number = int(input(\"Enter a number: \"))\n",
    "\n",
    "if is_disarium_number(number):\n",
    "    print(number, \"is a Disarium Number\")\n",
    "else:\n",
    "    print(number, \"is not a Disarium Number\")"
   ]
  },
  {
   "cell_type": "code",
   "execution_count": null,
   "metadata": {},
   "outputs": [],
   "source": [
    "# 2. Write a Python program to print all disarium numbers between 1 to 100?\n",
    "# Ans=\n",
    "def is_disarium_number(number):\n",
    "    str_number = str(number)\n",
    "    length = len(str_number)\n",
    "    sum_of_digits = 0\n",
    "\n",
    "    for i in range(length):\n",
    "        digit = int(str_number[i])\n",
    "        sum_of_digits += digit ** (i+1)\n",
    "\n",
    "    return sum_of_digits == number\n",
    "\n",
    "# Iterate from 1 to 100 and check if each number is a Disarium Number\n",
    "for number in range(1, 101):\n",
    "    if is_disarium_number(number):\n",
    "        print(number)"
   ]
  },
  {
   "cell_type": "code",
   "execution_count": null,
   "metadata": {},
   "outputs": [],
   "source": [
    "# 3. Write a Python program to check if the given number is Happy Number?\n",
    "# Ans=\n",
    "def is_happy_number(number):\n",
    "    seen_numbers = set()\n",
    "\n",
    "    while number != 1:\n",
    "        # Break the loop if the number is seen again (loop detected)\n",
    "        if number in seen_numbers:\n",
    "            return False\n",
    "        \n",
    "        # Add the number to the set of seen numbers\n",
    "        seen_numbers.add(number)\n",
    "        \n",
    "        # Calculate the sum of the squares of the digits\n",
    "        sum_of_squares = 0\n",
    "        while number != 0:\n",
    "            digit = number % 10\n",
    "            sum_of_squares += digit ** 2\n",
    "            number //= 10\n",
    "        \n",
    "        number = sum_of_squares\n",
    "\n",
    "    return True\n",
    "\n",
    "# Example usage\n",
    "number = int(input(\"Enter a number: \"))\n",
    "\n",
    "if is_happy_number(number):\n",
    "    print(number, \"is a Happy Number\")\n",
    "else:\n",
    "    print(number, \"is not a Happy Number\")"
   ]
  },
  {
   "cell_type": "code",
   "execution_count": null,
   "metadata": {},
   "outputs": [],
   "source": [
    "# 4. Write a Python program to print all happy numbers between 1 and 100?\n",
    "# Ans=\n",
    "def is_happy_number(number):\n",
    "    seen_numbers = set()\n",
    "\n",
    "    while number != 1:\n",
    "        if number in seen_numbers:\n",
    "            return False\n",
    "        \n",
    "        seen_numbers.add(number)\n",
    "        \n",
    "        sum_of_squares = 0\n",
    "        while number != 0:\n",
    "            digit = number % 10\n",
    "            sum_of_squares += digit ** 2\n",
    "            number //= 10\n",
    "        \n",
    "        number = sum_of_squares\n",
    "\n",
    "    return True\n",
    "\n",
    "# Iterate from 1 to 100 and check if each number is a Happy Number\n",
    "for number in range(1, 101):\n",
    "    if is_happy_number(number):\n",
    "        print(number)"
   ]
  },
  {
   "cell_type": "code",
   "execution_count": null,
   "metadata": {},
   "outputs": [],
   "source": [
    "# 5. Write a Python program to determine whether the given number is a Harshad Number?\n",
    "# Ans=\n",
    "def is_harshad_number(number):\n",
    "    # Convert the number to a string to access individual digits\n",
    "    str_number = str(number)\n",
    "    sum_of_digits = sum(int(digit) for digit in str_number)\n",
    "\n",
    "    return number % sum_of_digits == 0\n",
    "\n",
    "# Example usage\n",
    "number = int(input(\"Enter a number: \"))\n",
    "\n",
    "if is_harshad_number(number):\n",
    "    print(number, \"is a Harshad Number\")\n",
    "else:\n",
    "    print(number, \"is not a Harshad Number\")"
   ]
  },
  {
   "cell_type": "code",
   "execution_count": null,
   "metadata": {},
   "outputs": [],
   "source": [
    "# 6. Write a Python program to print all pronic numbers between 1 and 100?\n",
    "# Ans=\n",
    "def is_pronic_number(number):\n",
    "    for i in range(1, int(number**0.5) + 1):\n",
    "        if i * (i+1) == number:\n",
    "            return True\n",
    "    return False\n",
    "\n",
    "# Iterate from 1 to 100 and check if each number is a pronic number\n",
    "for number in range(1, 101):\n",
    "    if is_pronic_number(number):\n",
    "        print(number)"
   ]
  },
  {
   "cell_type": "code",
   "execution_count": null,
   "metadata": {},
   "outputs": [],
   "source": []
  },
  {
   "cell_type": "code",
   "execution_count": null,
   "metadata": {},
   "outputs": [],
   "source": []
  },
  {
   "cell_type": "code",
   "execution_count": null,
   "metadata": {},
   "outputs": [],
   "source": []
  }
 ],
 "metadata": {
  "kernelspec": {
   "display_name": "Python 3",
   "language": "python",
   "name": "python3"
  },
  "language_info": {
   "codemirror_mode": {
    "name": "ipython",
    "version": 3
   },
   "file_extension": ".py",
   "mimetype": "text/x-python",
   "name": "python",
   "nbconvert_exporter": "python",
   "pygments_lexer": "ipython3",
   "version": "3.7.6"
  }
 },
 "nbformat": 4,
 "nbformat_minor": 4
}
