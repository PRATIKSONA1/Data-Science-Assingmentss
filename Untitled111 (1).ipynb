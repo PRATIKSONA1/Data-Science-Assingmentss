{
 "cells": [
  {
   "cell_type": "markdown",
   "metadata": {},
   "source": [
    "# Assingment no.11"
   ]
  },
  {
   "cell_type": "code",
   "execution_count": null,
   "metadata": {},
   "outputs": [],
   "source": [
    "# 1. Create an assert statement that throws an AssertionError if the variable spam is a negative\n",
    "# integer.\n",
    "Ans=\n",
    "assert spam >= 0, 'spam should be a non-negative integer'\n",
    "The above assert statement will throw an AssertionError with the message 'spam should be a non-negative integer' if \n",
    "the variable spam is a negative integer."
   ]
  },
  {
   "cell_type": "code",
   "execution_count": null,
   "metadata": {},
   "outputs": [],
   "source": [
    "# 2. Write an assert statement that triggers an AssertionError if the variables eggs and bacon contain\n",
    "# strings that are the same as each other, even if their cases are different (that is, &#39;hello&#39; and &#39;hello&#39; are\n",
    "# considered the same, and &#39;goodbye&#39; and &#39;GOODbye&#39; are also considered the same).\n",
    " Ans=\n",
    "assert eggs.lower() != bacon.lower(), \"eggs and bacon should not have same string value ignoring case\"\n",
    "This assert statement will trigger an AssertionError if the variables eggs and bacon contain strings that are the same as each other, even if their cases are different. The lower() method is used to convert both strings to lowercase before comparing them.\n",
    "\n",
    "\n",
    "\n",
    "\n",
    "                                                                            \n",
    "                                                                            "
   ]
  },
  {
   "cell_type": "code",
   "execution_count": null,
   "metadata": {},
   "outputs": [],
   "source": [
    "#3. Create an assert statement that throws an AssertionError every time.\n",
    "Ans=\n",
    "Here's an assert statement that will always trigger an AssertionError:\n",
    "\n",
    "\n",
    "assert False, \"This assertion always fails\"\n",
    "The assert statement here checks if the expression False is true, which will never be the case. \n",
    "Therefore, this statement will always raise an AssertionError and the optional error message\n",
    "\"This assertion always fails\" will be printed along with it."
   ]
  },
  {
   "cell_type": "code",
   "execution_count": null,
   "metadata": {},
   "outputs": [],
   "source": [
    "#4. What are the two lines that must be present in your software in order to call logging.debug()?\n",
    "Ans=\n",
    "To call the logging.debug() method in your software, you need to include the following two lines:\n",
    "\n",
    "\n",
    "import logging\n",
    "logging.basicConfig(level=logging.DEBUG, format=' %(asctime)s - %(levelname)s - %(message)s')\n",
    "The first line imports the logging module, while the second line sets up the logging configuration. \n",
    "The basicConfig() method is used to configure the root logger. Here, we set the logging level to DEBUG\n",
    "and the format of the log message to include the date and time of the log message, the log level, and \n",
    "the message itself."
   ]
  },
  {
   "cell_type": "code",
   "execution_count": null,
   "metadata": {},
   "outputs": [],
   "source": [
    "# 5. What are the two lines that your program must have in order to have logging.debug() send a\n",
    "# logging message to a file named programLog.txt?\n",
    "Ans=\n",
    "To have logging.debug() send a logging message to a file named programLog.txt, your program must have the following two lines:\n",
    "\n",
    "python\n",
    "Copy code\n",
    "import logging\n",
    "logging.basicConfig(filename='programLog.txt', level=logging.DEBUG, format=' %(asctime)s - %(levelname)s - %(message)s')\n",
    "The first line imports the logging module, while the second line sets up the logging configuration. Here, filename parameter specifies the name of the log file to which the log messages will be written, level parameter sets the minimum log level to be captured, and format parameter specifies the format of the log messages."
   ]
  },
  {
   "cell_type": "code",
   "execution_count": null,
   "metadata": {},
   "outputs": [],
   "source": [
    "# 6. What are the five levels of logging?\n",
    "Ans=\n",
    "The five levels of logging in Python's logging module, in increasing order of severity, are:\n",
    "\n",
    "DEBUG: Detailed information, typically of interest only when diagnosing problems.\n",
    "INFO: Confirmation that things are working as expected.\n",
    "WARNING: An indication that something unexpected or indicative of some problem has occurred or detected. The software is still working as expected.\n",
    "ERROR: Due to a more serious problem, the software is unable to perform some function.\n",
    "CRITICAL: A very serious error, indicating that the program itself may be unable to continue running.\n",
    "\n",
    "\n",
    "\n",
    "\n"
   ]
  },
  {
   "cell_type": "code",
   "execution_count": null,
   "metadata": {},
   "outputs": [],
   "source": [
    "# 7. What line of code would you add to your software to disable all logging messages?\n",
    "Ans=\n",
    "To disable all logging messages, you can add the following line of code to your software:\n",
    "\n",
    "python\n",
    "Copy code\n",
    "logging.disable(logging.CRITICAL)\n",
    "This will disable all logging messages that have a level of CRITICAL or lower, effectively turning off all logging."
   ]
  },
  {
   "cell_type": "code",
   "execution_count": null,
   "metadata": {},
   "outputs": [],
   "source": [
    "# 8.Why is using logging messages better than using print() to display the same message?\n",
    "Ans=\n",
    "Using logging messages is better than using print() to display the same message for several reasons:\n",
    "\n",
    "Flexibility: With logging messages, you can control where the messages go (console, file, syslog, etc.), the level of importance of the message (debug, info, warning, error, critical), and the format of the message. This makes it easier to debug and diagnose problems.\n",
    "\n",
    "Granularity: By using different levels of logging messages, you can get a more granular view of what's happening in your program. For example, you might use debug-level messages to track down a specific issue, and then switch to info-level messages once you've found the root cause.\n",
    "\n",
    "Efficiency: Logging messages are generally more efficient than print statements, especially in production code. When you log a message, the message is only written once, regardless of how many times the code is run. With print statements, the message is written every time the code is run, which can slow down your program.\n",
    "\n",
    "Configurability: With logging messages, you can configure the behavior of your program at runtime by changing the logging level, output format, and destination without modifying the code. This can be very useful when you need to debug a production system without stopping or restarting the program."
   ]
  },
  {
   "cell_type": "code",
   "execution_count": null,
   "metadata": {},
   "outputs": [],
   "source": [
    "# 9. What are the differences between the Step Over, Step In, and Step Out buttons in the debugger?\n",
    "Ans=\n",
    "The Step Over, Step In, and Step Out buttons are commonly used while debugging a program:\n",
    "\n",
    "Step Over: It executes the current line and moves to the next line in the code. If the current line contains a function call, the function is executed, and the results are returned before moving to the next line of the calling code.\n",
    "\n",
    "Step In: It moves the debugger into the function that is called in the current line. If the current line does not contain a function call, it behaves like Step Over.\n",
    "\n",
    "Step Out: It executes lines of code until it returns from the current function. This button is used when you want to quickly return from a function to the caller."
   ]
  },
  {
   "cell_type": "code",
   "execution_count": null,
   "metadata": {},
   "outputs": [],
   "source": [
    "# 10.After you click Continue, when will the debugger stop ?\n",
    "Ans=\n",
    "After clicking Continue, the debugger will stop when it encounters a breakpoint or when the program terminates."
   ]
  },
  {
   "cell_type": "code",
   "execution_count": null,
   "metadata": {},
   "outputs": [],
   "source": [
    "#11. What is the concept of a breakpoint?\n",
    "Ans=\n",
    "A breakpoint is a signal that you can give to a debugger to pause program execution\n",
    "at a certain point during the execution of your code. Once the execution reaches a line\n",
    "with a breakpoint, the program will pause, and you can examine the current state of the\n",
    "program, check the values of variables, and step through the code line by line. Breakpoints\n",
    "are useful for debugging complex code that is difficult to understand or for finding issues\n",
    "that only occur at specific points during the execution of the program."
   ]
  },
  {
   "cell_type": "code",
   "execution_count": null,
   "metadata": {},
   "outputs": [],
   "source": []
  },
  {
   "cell_type": "code",
   "execution_count": null,
   "metadata": {},
   "outputs": [],
   "source": []
  }
 ],
 "metadata": {
  "kernelspec": {
   "display_name": "Python 3",
   "language": "python",
   "name": "python3"
  },
  "language_info": {
   "codemirror_mode": {
    "name": "ipython",
    "version": 3
   },
   "file_extension": ".py",
   "mimetype": "text/x-python",
   "name": "python",
   "nbconvert_exporter": "python",
   "pygments_lexer": "ipython3",
   "version": "3.7.6"
  }
 },
 "nbformat": 4,
 "nbformat_minor": 4
}
