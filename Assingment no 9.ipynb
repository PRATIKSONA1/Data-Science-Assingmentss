{
 "cells": [
  {
   "cell_type": "markdown",
   "metadata": {},
   "source": [
    "# Assingment no 9"
   ]
  },
  {
   "cell_type": "code",
   "execution_count": null,
   "metadata": {},
   "outputs": [],
   "source": [
    "# 1. To what does a relative path refer?\n",
    "Ans=\n",
    "A relative path refers to the location of a file or directory relative to the current working \n",
    "directory of the program or the user. It does not begin with the root directory, but instead, it\n",
    "specifies the path starting from the current directory. For example, if the current working directory\n",
    "is \"/home/user/documents\" and you want to access a file \"report.txt\" located in the \"documents\" directory,\n",
    "then the relative path would be \"./report.txt\" (assuming the file is in the same directory).\n"
   ]
  },
  {
   "cell_type": "code",
   "execution_count": null,
   "metadata": {},
   "outputs": [],
   "source": [
    "#2. What does an absolute path start with your operating system?\n",
    "Ans=\n",
    "An absolute path refers to the complete path of a file or directory in a file system starting\n",
    "from the root directory of the file system. The root directory is the top-level directory in a \n",
    "file system, and it is denoted by a forward slash (/) on Unix-based systems, including Linux and\n",
    "macOS, and by a drive letter (e.g., C:) on Windows systems. Therefore, an absolute path on a Unix-based\n",
    "system might look like this: /home/user/myfile.txt, while on Windows it might look like this: C:\\Users\\User\\Documents\\myfile.txt."
   ]
  },
  {
   "cell_type": "code",
   "execution_count": null,
   "metadata": {},
   "outputs": [],
   "source": [
    "#3. What do the functions os.getcwd() and os.chdir() do?\n",
    "Ans=\n",
    "The os.getcwd() function returns a string that represents the current working directory, which is\n",
    "the directory in which the Python script is currently executing.\n",
    "\n",
    "The os.chdir(path) function changes the current working directory to the directory specified by path."
   ]
  },
  {
   "cell_type": "code",
   "execution_count": null,
   "metadata": {},
   "outputs": [],
   "source": [
    "# 4. What are the . and .. folders?\n",
    "Ans=\n",
    "In most file systems, including those used by Windows, Linux, and macOS, the \".\" (dot) folder is a special folder that represents the current directory or folder, while \"..\" (double dots) is a special folder that represents the parent directory or folder.\n",
    "\n",
    "For example, suppose you are currently in the directory \"/home/user/Documents\" in a Linux system. In this case, the \".\" folder would refer to the \"/home/user/Documents\" directory itself, and the \"..\" folder would refer to the \"/home/user\" directory.\n",
    "\n",
    "The dot and double dot folders are used to navigate the file system in a relative manner and are often used in commands such as \"cd\" to move to a different directory."
   ]
  },
  {
   "cell_type": "code",
   "execution_count": null,
   "metadata": {},
   "outputs": [],
   "source": [
    "#5. In C:\\bacon\\eggs\\spam.txt, which part is the dir name, and which part is the base name?\n",
    "Ans=\n",
    "In C:\\bacon\\eggs\\spam.txt, C:\\bacon\\eggs is the dir name (directory name) and spam.txt is the base name."
   ]
  },
  {
   "cell_type": "code",
   "execution_count": null,
   "metadata": {},
   "outputs": [],
   "source": [
    "#6. What are the three “mode” arguments that can be passed to the open() function?\n",
    "Ans=\n",
    "The three \"mode\" arguments that can be passed to the open() function are:\n",
    "\n",
    "'r': read mode, used to read the contents of a file.\n",
    "'w': write mode, used to write or overwrite contents to a file.\n",
    "'a': append mode, used to append new content to an existing file.\n",
    "\n"
   ]
  },
  {
   "cell_type": "code",
   "execution_count": null,
   "metadata": {},
   "outputs": [],
   "source": [
    "#7. What happens if an existing file is opened in write mode?\n",
    "Ans=\n",
    "If an existing file is opened in write mode using the open() function, its contents will be \n",
    "truncated to zero length. This means that all the existing data in the file will be deleted \n",
    "and the file will be empty. Any data that is written to the file after it is opened in write \n",
    "mode will overwrite the previous data. Therefore, it is important to use the write mode carefully\n",
    "and ensure that the file is opened in \n",
    "the correct mode to avoid data loss."
   ]
  },
  {
   "cell_type": "code",
   "execution_count": null,
   "metadata": {},
   "outputs": [],
   "source": [
    "#8. How do you tell the difference between read() and readlines()?\n",
    "Ans=\n",
    "The read() method reads the whole content of a file and returns it as a string. If you specify a size argument, it reads that number of characters from the file.\n",
    "\n",
    "The readlines() method reads the whole content of a file and returns it as a list of strings. Each string in the list represents a line of the file. If you specify a size argument, it reads that number of bytes from the file, and the returned list may contain incomplete lines.\n"
   ]
  },
  {
   "cell_type": "code",
   "execution_count": null,
   "metadata": {},
   "outputs": [],
   "source": [
    "#9. What data structure does a shelf value resemble?\n",
    "Ans=\n",
    "A shelf value in Python resembles a dictionary data structure. It has key-value pairs where \n",
    "the keys and values are both strings. However, unlike dictionaries, shelf values are stored as\n",
    "files on disk, which allows them to persist even after the program that created them has terminated.\n",
    "Shelves are useful for storing and retrieving large amounts of data in a structured way, especially \n",
    "when that data needs to be accessed across multiple\n",
    "executions of a program."
   ]
  },
  {
   "cell_type": "code",
   "execution_count": null,
   "metadata": {},
   "outputs": [],
   "source": []
  }
 ],
 "metadata": {
  "kernelspec": {
   "display_name": "Python 3",
   "language": "python",
   "name": "python3"
  },
  "language_info": {
   "codemirror_mode": {
    "name": "ipython",
    "version": 3
   },
   "file_extension": ".py",
   "mimetype": "text/x-python",
   "name": "python",
   "nbconvert_exporter": "python",
   "pygments_lexer": "ipython3",
   "version": "3.7.6"
  }
 },
 "nbformat": 4,
 "nbformat_minor": 4
}
