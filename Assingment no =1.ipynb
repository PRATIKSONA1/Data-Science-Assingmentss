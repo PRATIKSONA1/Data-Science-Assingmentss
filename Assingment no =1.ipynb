{
 "cells": [
  {
   "cell_type": "markdown",
   "metadata": {},
   "source": [
    "# Assingment no 1"
   ]
  },
  {
   "cell_type": "code",
   "execution_count": null,
   "metadata": {},
   "outputs": [],
   "source": [
    "# 1. In the below elements which of them are values or an expression? eg:- values can be \n",
    "# integer or string and expressions will be mathematical operators.\n",
    "\n",
    "Ans-\n",
    "Integer - 6\n",
    "String - 'hello'\n",
    "Mathematical operators - *,-,+,/\n"
   ]
  },
  {
   "cell_type": "code",
   "execution_count": null,
   "metadata": {},
   "outputs": [],
   "source": [
    "# 2. What is the difference between string and variable?\n",
    "\n",
    "Ans-\n",
    "A Variable is a store of information, and a String is a type of information you would store in a Variable.\n",
    "A String is usually words, enclosed with \"\"\n",
    "\n",
    "Eg\n",
    "String x =\"Welcome to SoloLearn\"\n",
    "X is the Variable, and we declared it as a String, use the single = to assign the text to it.\n"
   ]
  },
  {
   "cell_type": "code",
   "execution_count": null,
   "metadata": {},
   "outputs": [],
   "source": [
    "## 3. Describe three different data types.\n",
    "\n",
    "Ans-\n",
    "Here are three different data types in Python:\n",
    "\n",
    "Integer: An integer is a whole number without a decimal point. \n",
    "     In Python, you can declare an integer by assigning a numerical value to a variable, like this:\n",
    "    x = 42\n",
    "    \n",
    "Float: A float is a number with a decimal point. \n",
    "    In Python, you can declare a float by using a decimal point or by using scientific notation, like this:\n",
    "    y = 55.5\n",
    "    \n",
    "String: A string is a sequence of characters enclosed in quotes.\n",
    "    In Python, you can declare a string using single quotes or double quotes, like this:\n",
    "    my_string =\"Hello world...!\"\n",
    "    \n",
    "    "
   ]
  },
  {
   "cell_type": "code",
   "execution_count": null,
   "metadata": {},
   "outputs": [],
   "source": [
    "## 4. What is an expression made up of? What do all expressions do?\n",
    "\n",
    "An expression in Python is made up of values, variables, operators, and function calls, and\n",
    "it can be evaluated to produce a result. All expressions in Python produce a value of a specific data type, \n",
    "such as integer, float, string, or boolean, which can be used in other expressions or assigned to a variable.\n",
    "Expressions are a fundamental part of programming in Python and are used extensively to write and evaluate code.\n",
    "\n",
    "here are some examples :-\n",
    "    1 + 2\n",
    "\"Hello, \" + \"world!\"\n",
    "2 * (4 - 1)\n",
    "len(\"INFORMATION\")\n",
    "\n"
   ]
  },
  {
   "cell_type": "code",
   "execution_count": null,
   "metadata": {},
   "outputs": [],
   "source": [
    "# 5. This assignment statements, like spam = 10. What is the difference between an\n",
    "# expression and a statement?\n",
    "\n",
    "Ans-\n",
    "In Python, an expression is a combination of values, variables, operators, and function calls that can be evaluated to produce a result, while\n",
    "a statement is a complete line of code that performs a specific action.\n",
    "\n",
    "An assignment statement, such as spam = 10, is an example of a statement in Python. It assigns the value 10 to the variable spam, \n",
    "which can be used in other expressions or statements later in the code.\n",
    "\n",
    "In contrast, an expression can be a part of a statement, or it can stand alone as a complete statement. For example, spam + 5 is an expression that can be used within a statement like print(spam + 5),\n",
    "which would print the result of the expression to the console.\n",
    "\n",
    "In summary, an expression is a part of a statement or a complete statement that evaluates to a value, while a statement is a complete line of code that performs a specific action, such as\n",
    "an assignment statement that assigns a value to a variable.\n",
    "\n",
    "\n",
    "\n",
    "\n",
    "\n",
    "\n"
   ]
  },
  {
   "cell_type": "code",
   "execution_count": null,
   "metadata": {},
   "outputs": [],
   "source": [
    "## 6. After running the following code, what does the variable bacon contain?\n",
    "bacon = 22\n",
    "bacon + 1\n",
    "\n",
    "Ans-  \n",
    "Variable bacon contain value `22`."
   ]
  },
  {
   "cell_type": "code",
   "execution_count": null,
   "metadata": {},
   "outputs": [],
   "source": [
    "## 7. What should the values of the following two terms be?\n",
    "'spam' + 'spamspam'\n",
    "'spam'*3\n",
    "Ans-\n",
    "The first term 'spam' + 'spamspam' concatenates two strings together using the \"+\" operator, resulting in the combined string 'spamspamspam'.\n",
    "\n",
    "The second term 'spam' * 3 multiplies the string 'spam' by 3 using the * operator, resulting in the repeated string 'spamspamspam'."
   ]
  },
  {
   "cell_type": "code",
   "execution_count": null,
   "metadata": {},
   "outputs": [],
   "source": [
    "##8. Why is eggs a valid variable name while 100 is invalid?\n",
    "\n",
    "Ans-\n",
    "In Python, variable names must follow certain rules. Here are the rules for variable names in Python:\n",
    "\n",
    "Variable names can contain letters (both uppercase and lowercase), numbers, and underscores (_).\n",
    "Variable names cannot start with a number.\n",
    "Variable names cannot contain spaces or special characters (such as !, @, #, etc.).\n",
    "Variable names cannot be the same as a keyword in Python (such as if, else, while, etc.).\n",
    "Based on these rules, eggs is a valid variable name because it consists only of letters, and does not start with a number. On the other hand, 100 is an \n",
    "invalid variable name because it starts with a number, violating the second rule.\n",
    "\n",
    "However, 100 can still be used as a value in Python, as in the expression eggs = 100, where eggs is a valid variable name that is being assigned the value 100.\n",
    "\n",
    "In summary, variable names in Python must follow certain rules, including not starting with a number. While eggs is a valid variable name, 100 is not.\n",
    "\n",
    "\n",
    "\n",
    "\n",
    "\n",
    "\n"
   ]
  },
  {
   "cell_type": "code",
   "execution_count": null,
   "metadata": {},
   "outputs": [],
   "source": [
    "##9. What three functions can be used to get the integer, floating-point number, or string\n",
    "# version of a value?\n",
    "\n",
    "Ans=\n",
    "In Python, you can use the following three functions to get the integer, floating-point number, or \n",
    "string version of a value:\n",
    "\n",
    "int(): This function can be used to get the integer version of a value. \n",
    "    It takes a number or a string that can be converted to an integer as an argument, \n",
    "    and returns an integer. For example:int(3.14) #output(3)   \n",
    "      \n",
    "str():str(): This function can be used to get the string version of a value. \n",
    "        It takes any value as an argument and returns a string representation of that value. \n",
    "        For example:  str(42)      # Output: '42'\n",
    "            \n",
    "float(): This function can be used to get the floating-point number version of a value. \n",
    "    It takes a number or a string that can be converted to a floating-point number as an argument, \n",
    "    and returns a floating-point number. \n",
    "    For example:  float(3)     # Output: 3.0\n",
    "\n",
    "\n"
   ]
  },
  {
   "cell_type": "code",
   "execution_count": null,
   "metadata": {},
   "outputs": [],
   "source": [
    "#10. Why does this expression cause an error? How can you fix it?\n",
    "'I have eaten'+ '99' + 'burritos'\n",
    "\n",
    "Ans=\n",
    "\n",
    "The expression 'I have eaten'+ '99' + 'burritos' causes an error \n",
    "because it is trying to concatenate a string ('I have eaten') with an integer value (99).\n",
    "\n",
    "In Python, you can only concatenate strings with other strings using the + operator. Therefore, \n",
    "when you try to concatenate a string and an integer, Python raises a TypeError.\n",
    "\n",
    "\n",
    "solution='I have eaten '+ str(99) + ' burritos' #output('I have eaten 99 burritos')"
   ]
  }
 ],
 "metadata": {
  "kernelspec": {
   "display_name": "Python 3",
   "language": "python",
   "name": "python3"
  },
  "language_info": {
   "codemirror_mode": {
    "name": "ipython",
    "version": 3
   },
   "file_extension": ".py",
   "mimetype": "text/x-python",
   "name": "python",
   "nbconvert_exporter": "python",
   "pygments_lexer": "ipython3",
   "version": "3.7.6"
  }
 },
 "nbformat": 4,
 "nbformat_minor": 4
}
