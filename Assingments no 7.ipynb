{
 "cells": [
  {
   "cell_type": "markdown",
   "metadata": {},
   "source": [
    "# Assingments no 7"
   ]
  },
  {
   "cell_type": "code",
   "execution_count": null,
   "metadata": {},
   "outputs": [],
   "source": [
    "# 1. What is the name of the feature responsible for generating Regex objects?\n",
    "Ans=\n",
    "The `re` module in Python is responsible for generating Regex objects."
   ]
  },
  {
   "cell_type": "code",
   "execution_count": null,
   "metadata": {},
   "outputs": [],
   "source": [
    "# 2. Why do raw strings often appear in Regex objects?\n",
    "Ans=\n",
    "Raw strings are used in Regex objects to avoid the need to escape backslashes and\n",
    "other special characters. This is because raw strings treat backslashes as literal\n",
    "characters and don't interpret them as escape characters. This is particularly useful\n",
    "in regular expressions, which often include a lot of backslashes to match special characters\n",
    "and character classes."
   ]
  },
  {
   "cell_type": "code",
   "execution_count": null,
   "metadata": {},
   "outputs": [],
   "source": [
    "# 3. What is the return value of the search() method?\n",
    "Ans=\n",
    "The search() method of a Regex object returns a Match object if there is a match anywhere in the string, or None\n",
    "if there is no match."
   ]
  },
  {
   "cell_type": "code",
   "execution_count": null,
   "metadata": {},
   "outputs": [],
   "source": [
    "#4. From a Match item, how do you get the actual strings that match the pattern?\n",
    "Ans=\n",
    "You can get the actual strings that match the pattern from a Match object using the group() method.\n",
    "The group() method returns the specific match that was found by the regular expression. By default, \n",
    "group(0) returns the entire match, and group(1), group(2), etc. return the specific groups captured\n",
    "by the regular expression. For example:\n",
    "\n",
    "\n",
    "import re\n",
    "\n",
    "text = 'The quick brown fox jumps over the lazy dog.'\n",
    "pattern = r'quick (.*? )fox'\n",
    "\n",
    "match = re.search(pattern, text)\n",
    "if match:\n",
    "    print(match.group(0))  # 'quick brown fox'\n",
    "    print(match.group(1))  # 'brown '"
   ]
  },
  {
   "cell_type": "code",
   "execution_count": null,
   "metadata": {},
   "outputs": [],
   "source": [
    "# 5. In the regex which created from the r&#39;(\\d\\d\\d)-(\\d\\d\\d-\\d\\d\\d\\d)&#39;, what does group zero cover?\n",
    "# Group 2? Group 1?\n",
    "Ans=\n",
    "\n",
    "In the regex r'(\\d\\d\\d)-(\\d\\d\\d-\\d\\d\\d\\d)', group 0 covers the entire match i.e., the phone number, group\n",
    "1 covers the first three digits of the phone number (area code) and group 2 covers the remaining seven\n",
    "digits of the phone number."
   ]
  },
  {
   "cell_type": "code",
   "execution_count": null,
   "metadata": {},
   "outputs": [],
   "source": [
    "#6. In standard expression syntax, parentheses and intervals have distinct meanings. How can you tell\n",
    "a regex that you want it to fit real parentheses and periods?\n",
    "Ans=\n",
    "To tell a regex that you want it to fit real parentheses and periods,\n",
    "you can use a backslash character () to escape them. This indicates that \n",
    "they should be treated as literal characters instead of having their special \n",
    "regex meaning. For example, if you want to match the string \"I bought (some) milk\",\n",
    "you can use the following regex:"
   ]
  },
  {
   "cell_type": "code",
   "execution_count": null,
   "metadata": {},
   "outputs": [],
   "source": [
    "#7. The findall() method returns a string list or a list of string tuples. What causes it to return one of\n",
    "the two options?\n",
    "Ans=\n",
    "The findall() method returns a string list if the regular expression being searched has no groups, \n",
    "i.e., if there are no parentheses in the regular expression. \n",
    "In this case, findall() returns a list of all non-overlapping matches.\n",
    "\n",
    "On the other hand, if the regular expression contains one or more groups, findall() \n",
    "returns a list of string tuples. Each tuple contains the string matched by the entire \n",
    "regular expression, followed by the strings matched by each group in the order that they \n",
    "appear in the regular expression."
   ]
  },
  {
   "cell_type": "code",
   "execution_count": null,
   "metadata": {},
   "outputs": [],
   "source": [
    "###8. In standard expressions, what does the | character mean?\n",
    "Ans=\n",
    "    In regular expressions, the | character is used as a logical OR operator. \n",
    "    It allows you to match any one of several possible patterns. \n",
    "    For example, the regular expression cat|dog matches either the string \"cat\" or the string \"dog\"."
   ]
  },
  {
   "cell_type": "code",
   "execution_count": null,
   "metadata": {},
   "outputs": [],
   "source": [
    "#9. In regular expressions, what does the character stand for?\n",
    "Ans=\n",
    "There is no specific character mentioned in the question. However, in regular expressions, different characters have different meanings. Here are some of the commonly used characters in regular expressions and their meanings:\n",
    "\n",
    "\".\" (period): Matches any single character except newline.\n",
    "\"^\" (caret): Matches the start of a string.\n",
    "\"$\" (dollar): Matches the end of a string.\n",
    "\"*\" (asterisk): Matches zero or more occurrences of the preceding character.\n",
    "\"+\" (plus): Matches one or more occurrences of the preceding character.\n",
    "\"?\" (question mark): Matches zero or one occurrence of the preceding character.\n",
    "\"\\d\": Matches any digit character.\n",
    "\"\\w\": Matches any word character (alphanumeric characters and underscore).\n",
    "\"\\s\": Matches any whitespace character (space, tab, newline, etc.).\n",
    "\"[]\" (square brackets): Matches any character inside the brackets.\n",
    "\"|\" (vertical bar): Matches either the expression before or after the bar.\n",
    "These are just a few examples, and regular expressions have many more characters and special syntax for expressing complex patterns.\n",
    "\n",
    "\n"
   ]
  },
  {
   "cell_type": "code",
   "execution_count": null,
   "metadata": {},
   "outputs": [],
   "source": [
    "# 10.In regular expressions, what is the difference between the + and * characters?\n",
    "Ans=\n",
    "\n",
    "In regular expressions:\n",
    "\n",
    "The + character matches one or more occurrences of the preceding character or group.\n",
    "The * character matches zero or more occurrences of the preceding character or group."
   ]
  },
  {
   "cell_type": "code",
   "execution_count": null,
   "metadata": {},
   "outputs": [],
   "source": [
    "# 11. What is the difference between {4} and {4,5} in regular expression?\n",
    "Ans=\n",
    "In regular expressions, {4} and {4,5} are both quantifiers that specify the number of times a pattern should occur.\n",
    "\n",
    "{4} means the pattern should occur exactly 4 times.\n",
    "{4,5} means the pattern should occur between 4 and 5 times.\n",
    "For example, the regular expression a{4} would match the string \"aaaa\", \n",
    "but not \"aaa\" or \"aaaaa\". The regular expression a{4,5} would match the string \n",
    "\"aaaa\" or \"aaaaa\", but not \"aaa\" or \"aaaaaaaa"
   ]
  },
  {
   "cell_type": "code",
   "execution_count": null,
   "metadata": {},
   "outputs": [],
   "source": [
    "# 12. What do you mean by the \\d, \\w, and \\s shorthand character classes signify in regular\n",
    "expressions?\n",
    "Ans=\n",
    "In regular expressions, shorthand character classes are used to match specific types of characters. Here are what the \\d, \\w, and \\s shorthand character classes signify:\n",
    "\n",
    "\\d: Matches any digit character, which is equivalent to the character class [0-9].\n",
    "\\w: Matches any word character, which includes letters, digits, and underscores. \n",
    "    It's equivalent to the character class [a-zA-Z0-9_].\n",
    "\\s: Matches any whitespace character, which includes spaces, tabs, and newlines.\n",
    "These shorthand character classes can be used in regular expressions to match patterns \n",
    "involving digits, words, and whitespace."
   ]
  },
  {
   "cell_type": "code",
   "execution_count": null,
   "metadata": {},
   "outputs": [],
   "source": [
    "# 13. What do means by \\D, \\W, and \\S shorthand character classes signify in regular expressions?\n",
    "Ans=\n",
    "In regular expressions, the shorthand character classes \\D, \\W, and \\S have the following meanings:\n",
    "\n",
    "\\D matches any character that is not a digit (0-9).\n",
    "\\W matches any character that is not a word character. Word characters include letters, digits, and underscores (_).\n",
    "\\S matches any character that is not a whitespace character (space, tab, newline).\n",
    "These shorthand character classes can be useful when you want to match any character except for a specific type of character."
   ]
  },
  {
   "cell_type": "code",
   "execution_count": null,
   "metadata": {},
   "outputs": [],
   "source": [
    "#14. What is the difference between .*? and .*?\n",
    "Ans=\n",
    "The two expressions .* and .*? are both used in regular expressions for matching patterns.\n",
    "\n",
    ".* is a greedy expression, which means it will match as many characters as possible. This can sometimes lead to unintended matches. For example, the regular expression a.*b would match the entire string ababab, because the .* expression matches all the characters between the first a and the last b.\n",
    "\n",
    ".*? is a non-greedy expression, which means it will match as few characters as possible. This can be useful when you want to match the shortest possible string that meets your pattern. For example, the regular expression a.*?b would match only the first ab in the string ababab."
   ]
  },
  {
   "cell_type": "code",
   "execution_count": null,
   "metadata": {},
   "outputs": [],
   "source": [
    "#15. What is the syntax for matching both numbers and lowercase letters with a character class?\n",
    "Ans=\n",
    "To match both numbers and lowercase letters with a character class in regular expression syntax, you can use \n",
    "the following syntax:\n",
    "\n",
    "\n",
    "[0-9a-z]\n",
    "This will match any character that is a digit from 0 to 9 or a lowercase letter from a to z. \n",
    "You can also use the shorthand character class \\d to match digits and \\w to match word characters\n",
    "(which includes letters, digits, and underscores) in combination with the a-z range to match lowercase\n",
    "letters as well:\n",
    "    \n",
    "    [\\d[a-z]]\n",
    "This will match any character that is a digit or a lowercase letter."
   ]
  },
  {
   "cell_type": "code",
   "execution_count": null,
   "metadata": {},
   "outputs": [],
   "source": [
    "# 16. What is the procedure for making a normal expression in regax case insensitive?\n",
    "Ans=\n",
    "To make a regular expression case insensitive, you can pass the re.IGNORECASE or re.I as an optional flag to the re.compile() function. Here is an example:\n",
    "\n",
    "\n",
    "import re\n",
    "\n",
    "# Create a regular expression pattern that matches 'hello' in a case-insensitive manner\n",
    "pattern = re.compile('hello', flags=re.IGNORECASE)\n",
    "\n",
    "# Test the pattern against some strings\n",
    "print(pattern.search('Hello, world!'))  # Match found\n",
    "print(pattern.search('HELLO, WORLD!'))  # Match found\n",
    "print(pattern.search('Goodbye!'))  # No match found\n",
    "In the above example, re.IGNORECASE is used as a flag to make the pattern match case-insensitively. \n",
    "This flag can also be abbreviated as re.I.\n",
    "\n",
    "\n",
    "\n",
    "\n",
    "\n",
    "\n"
   ]
  },
  {
   "cell_type": "code",
   "execution_count": null,
   "metadata": {},
   "outputs": [],
   "source": [
    "#17. What does the . character normally match? What does it match if re.DOTALL is passed as 2nd\n",
    "argument in re.compile()?\n",
    "Ans=\n",
    "\n",
    "The . character in a regular expression normally matches any character except a newline character.\n",
    "If the re.DOTALL flag is passed as the second argument to re.compile(), then the \n",
    "character will match any character, \n",
    "including a newline character."
   ]
  },
  {
   "cell_type": "code",
   "execution_count": null,
   "metadata": {},
   "outputs": [],
   "source": [
    "#18.18. If numReg = re.compile(r&#39;\\d+&#39;), what will numRegex.sub(&#39;X&#39;, &#39;11 drummers, 10 pipers, five rings, 4\n",
    "hen&#39;) return?\n",
    "Ans=\n",
    "The numReg.sub('X', '11 drummers, 10 pipers, five rings, 4 hen') will return the following string: 'X drummers, X pipers, five rings, X hen'.\n",
    "\n",
    "Here, the regular expression r'\\d+' matches one or more digits, and the sub() method replaces all matches with the string 'X'. Therefore, the output replaces all numbers in the input \n",
    "string with the letter 'X'."
   ]
  },
  {
   "cell_type": "code",
   "execution_count": null,
   "metadata": {},
   "outputs": [],
   "source": [
    "# 19. What does passing re.VERBOSE as the 2nd argument to re.compile() allow to do?\n",
    "Ans=\n",
    "Passing re.VERBOSE as the second argument to re.compile() allows for the use of verbose mode in regular expressions. Verbose mode allows for the use of comments inside the regular expression pattern.\n",
    "\n",
    "In verbose mode, whitespace characters (spaces, tabs, and line breaks) in the pattern are ignored unless they are escaped or inside a character class. This allows for the pattern to be more readable and for the use of comments to explain the pattern.\n",
    "\n",
    "For example, the following regular expression pattern matches a phone number in verbose mode:\n",
    "\n",
    "pattern = re.compile(r'''\n",
    "    (\\d{3})    # area code\n",
    "    [-\\s]?     # separator\n",
    "    (\\d{3})    # first 3 digits\n",
    "    [-\\s]?     # separator\n",
    "    (\\d{4})    # last 4 digits\n",
    "    ''', re.VERBOSE)\n",
    "Without verbose mode, the same pattern would look like:\n",
    "\n",
    "\n",
    "pattern = re.compile(r'(\\d{3})[-\\s]?(\\d{3})[-\\s]?(\\d{4})')\n",
    "Using verbose mode can make the regular expression easier to read and understand.\n",
    "\n",
    "\n",
    "\n",
    "\n",
    "\n",
    "\n"
   ]
  },
  {
   "cell_type": "code",
   "execution_count": null,
   "metadata": {},
   "outputs": [],
   "source": [
    "#20. How would you write a regex that match a number with comma for every three digits? It must\n",
    "match the given following:\n",
    "&#39;42&#39;\n",
    "&#39;1,234&#39;\n",
    "&#39;6,368,745&#39;\n",
    "\n",
    "but not the following:\n",
    "&#39;12,34,567&#39; (which has only two digits between the commas)\n",
    "&#39;1234&#39; (which lacks commas)\n",
    "Ans=\n",
    "Explanation:\n",
    "\n",
    "^: Matches the start of the string.\n",
    "\\d{1,3}: Matches one to three digits at the beginning.\n",
    "(,\\d{3})*: Matches a comma followed by exactly three digits, zero or more times.\n",
    "$: Matches the end of the string.\n",
    "So, the final regex is matching numbers that start with one to three digits, followed by zero or more occurrences of a comma and exactly three digits.\n",
    "\n",
    "Here are the explanations for the matches and non-matches based on the given examples:\n",
    "\n",
    "Matches:\n",
    "'42': Starts with one digit, so it matches.\n",
    "'1,234': Starts with one digit, followed by a comma and exactly three digits, so it matches.\n",
    "'6,368,745': Starts with one digit, followed by two occurrences of a comma and exactly three digits, so it matches.\n",
    "Non-matches:\n",
    "'12,34,567': Starts with two digits, so it doesn't match.\n",
    "'1234': Doesn't contain any commas, so it doesn't match."
   ]
  },
  {
   "cell_type": "code",
   "execution_count": null,
   "metadata": {},
   "outputs": [],
   "source": [
    "#21. How would you write a regex that matches the full name of someone whose last name is\n",
    "Watanabe? You can assume that the first name that comes before it will always be one word that\n",
    "begins with a capital letter. The regex must match the following:\n",
    "&#39;Haruto Watanabe&#39;\n",
    "&#39;Alice Watanabe&#39;\n",
    "&#39;RoboCop Watanabe&#39;\n",
    "but not the following:\n",
    "&#39;haruto Watanabe&#39; (where the first name is not capitalized)\n",
    "&#39;Mr. Watanabe&#39; (where the preceding word has a nonletter character)\n",
    "&#39;Watanabe&#39; (which has no first name)\n",
    "&#39;Haruto watanabe&#39; (where Watanabe is not capitalized)\n",
    "22. How would you write a regex that matches a sentence where the first word is either Alice, Bob,\n",
    "or Carol; the second word is either eats, pets, or throws; the third word is apples, cats, or baseballs;\n",
    "and the sentence ends with a period? This regex should be case-insensitive. It must match the\n",
    "following:\n",
    "&#39;Alice eats apples.&#39;\n",
    "&#39;Bob pets cats.&#39;\n",
    "&#39;Carol throws baseballs.&#39;\n",
    "&#39;Alice throws Apples.&#39;\n",
    "&#39;BOB EATS CATS.&#39;\n",
    "but not the following:\n",
    "&#39;RoboCop eats apples.&#39;\n",
    "&#39;ALICE THROWS FOOTBALLS.&#39;\n",
    "&#39;Carol eats 7 cats.&#39;\n",
    "\n",
    "Ans=\n",
    "Explanation:\n",
    "\n",
    "[A-Z] matches any uppercase letter.\n",
    "[a-z]* matches any number of lowercase letters.\n",
    "\\s matches any whitespace character.\n",
    "Watanabe matches the literal string \"Watanabe\".\n",
    "This will match any string that starts with a capital letter, followed by any number of \n",
    "lowercase letters, followed by a whitespace character, and ends with the literal string \"Watanabe\"."
   ]
  },
  {
   "cell_type": "code",
   "execution_count": null,
   "metadata": {},
   "outputs": [],
   "source": []
  },
  {
   "cell_type": "code",
   "execution_count": null,
   "metadata": {},
   "outputs": [],
   "source": []
  }
 ],
 "metadata": {
  "kernelspec": {
   "display_name": "Python 3",
   "language": "python",
   "name": "python3"
  },
  "language_info": {
   "codemirror_mode": {
    "name": "ipython",
    "version": 3
   },
   "file_extension": ".py",
   "mimetype": "text/x-python",
   "name": "python",
   "nbconvert_exporter": "python",
   "pygments_lexer": "ipython3",
   "version": "3.7.6"
  }
 },
 "nbformat": 4,
 "nbformat_minor": 4
}
